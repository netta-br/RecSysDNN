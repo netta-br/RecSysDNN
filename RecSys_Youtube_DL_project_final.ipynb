{
  "cells": [
    {
      "cell_type": "markdown",
      "metadata": {
        "id": "IhCBPYJm1nYr"
      },
      "source": [
        "\n",
        "\n",
        "imports and data download\n",
        "\n"
      ]
    },
    {
      "cell_type": "code",
      "execution_count": null,
      "metadata": {
        "colab": {
          "base_uri": "https://localhost:8080/"
        },
        "id": "bMPRg9HP1sxl",
        "outputId": "1135cc8a-ae36-4386-9a94-51f3c5dbaddb"
      },
      "outputs": [
        {
          "name": "stdout",
          "output_type": "stream",
          "text": [
            "fatal: destination path 'neural_collaborative_filtering' already exists and is not an empty directory.\n",
            "fatal: destination path 'DATA___MovieLens___1M' already exists and is not an empty directory.\n"
          ]
        }
      ],
      "source": [
        "!git clone https://github.com/hexiangnan/neural_collaborative_filtering.git\n",
        "!git clone https://github.com/ChicagoBoothML/DATA___MovieLens___1M.git"
      ]
    },
    {
      "cell_type": "code",
      "execution_count": null,
      "metadata": {
        "id": "dpNDX-_GVr88"
      },
      "outputs": [],
      "source": [
        "#general\n",
        "import os\n",
        "from tqdm import tqdm\n",
        "from time import time\n",
        "\n",
        "# DS\n",
        "import numpy as np\n",
        "import pandas as pd\n",
        "import matplotlib.pyplot as plt\n",
        "import seaborn as sns\n",
        "\n",
        "# torch\n",
        "import torch\n",
        "from torch import nn\n",
        "import torch.nn.functional as F\n",
        "from torch.nn import Embedding,Linear\n",
        "from torch.utils.data import DataLoader\n",
        "from torch.utils.data.dataset import Dataset as TorchDataset"
      ]
    },
    {
      "cell_type": "code",
      "execution_count": null,
      "metadata": {
        "id": "4Jj4tjDw2SVE",
        "outputId": "fa50a03c-354f-4baf-f081-ef8cf2de2fbc"
      },
      "outputs": [
        {
          "name": "stdout",
          "output_type": "stream",
          "text": [
            "cuda\n"
          ]
        }
      ],
      "source": [
        "# globals\n",
        "DATAPATH = os.path.join(\"neural_collaborative_filtering\", \"Data\")\n",
        "TRAIN = os.path.join(DATAPATH, \"ml-1m.train.rating\")\n",
        "TEST = os.path.join(DATAPATH, 'ml-1m.test.rating')\n",
        "NEG = os.path.join(DATAPATH, 'ml-1m.test.negative')\n",
        "\n",
        "USER_DATA = os.path.join(\"DATA___MovieLens___1M\", \"users.dat\")\n",
        "MOVIE_DATA = os.path.join(\"DATA___MovieLens___1M\", \"movies.dat\")\n",
        "\n",
        "# configuration\n",
        "device = 'cuda' if torch.cuda.is_available() else 'cpu'\n",
        "np.random.seed(42)\n",
        "print(device)"
      ]
    },
    {
      "cell_type": "markdown",
      "metadata": {
        "id": "wgnLdmy7W2jH"
      },
      "source": [
        "# Preprocessing"
      ]
    },
    {
      "cell_type": "markdown",
      "metadata": {
        "id": "oSUePmDhXO1T"
      },
      "source": [
        "- take code from NeuMF HW 3\n",
        "- add history watch per user \n",
        "- sort train by timestamp\n",
        "- example age"
      ]
    },
    {
      "cell_type": "code",
      "execution_count": null,
      "metadata": {
        "id": "7zRbj_-P4K4W",
        "outputId": "7716b475-9cdf-47b9-c724-7c40cf4abfb8"
      },
      "outputs": [
        {
          "name": "stderr",
          "output_type": "stream",
          "text": [
            "/tmp/ipykernel_613/2567968391.py:1: FutureWarning: DataFrame.set_axis 'inplace' keyword is deprecated and will be removed in a future version. Use `obj = obj.set_axis(..., copy=False)` instead\n",
            "  df = pd.read_csv(TRAIN, sep = '\\t').set_axis(['user', 'item', 'rating', 'timestamp'], axis = 1, inplace = False)\n"
          ]
        }
      ],
      "source": [
        "df = pd.read_csv(TRAIN, sep = '\\t').set_axis(['user', 'item', 'rating', 'timestamp'], axis = 1, inplace = False)\n",
        "df = df.sort_values(by = ['user', 'timestamp'], ascending = True)\n",
        "hist = df.groupby('user')['item'].apply(list).rename('history').to_list()\n",
        "gradual_hist = []\n",
        "window = 10\n",
        "clip = lambda arr: (10 - len(arr)) * [0] + arr if len(arr) < window else arr[len(arr)-10:]\n",
        "for arr in hist:\n",
        "  gradual_hist.extend([clip(arr[:i]) for i in range(len(arr))])\n",
        "\n",
        "df['history'] = gradual_hist"
      ]
    },
    {
      "cell_type": "code",
      "execution_count": null,
      "metadata": {
        "colab": {
          "base_uri": "https://localhost:8080/",
          "height": 478
        },
        "id": "hEQssggwI-Lm",
        "outputId": "9dd4450a-ba80-4a0b-90da-d0e9132f2ac9"
      },
      "outputs": [
        {
          "name": "stderr",
          "output_type": "stream",
          "text": [
            "/tmp/ipykernel_613/1597431546.py:1: ParserWarning: Falling back to the 'python' engine because the 'c' engine does not support regex separators (separators > 1 char and different from '\\s+' are interpreted as regex); you can avoid this warning by specifying engine='python'.\n",
            "  user_data_df = pd.read_csv(USER_DATA, sep = '::', header=None).set_axis(['user', 'gender', 'age', 'occupation', 'zip'], axis = 1, inplace = False)\n",
            "/tmp/ipykernel_613/1597431546.py:1: FutureWarning: DataFrame.set_axis 'inplace' keyword is deprecated and will be removed in a future version. Use `obj = obj.set_axis(..., copy=False)` instead\n",
            "  user_data_df = pd.read_csv(USER_DATA, sep = '::', header=None).set_axis(['user', 'gender', 'age', 'occupation', 'zip'], axis = 1, inplace = False)\n"
          ]
        },
        {
          "data": {
            "text/html": [
              "<div>\n",
              "<style scoped>\n",
              "    .dataframe tbody tr th:only-of-type {\n",
              "        vertical-align: middle;\n",
              "    }\n",
              "\n",
              "    .dataframe tbody tr th {\n",
              "        vertical-align: top;\n",
              "    }\n",
              "\n",
              "    .dataframe thead th {\n",
              "        text-align: right;\n",
              "    }\n",
              "</style>\n",
              "<table border=\"1\" class=\"dataframe\">\n",
              "  <thead>\n",
              "    <tr style=\"text-align: right;\">\n",
              "      <th></th>\n",
              "      <th>user</th>\n",
              "      <th>gender</th>\n",
              "      <th>age</th>\n",
              "      <th>occupation</th>\n",
              "      <th>zip</th>\n",
              "      <th>is_male</th>\n",
              "      <th>zip_prefix</th>\n",
              "    </tr>\n",
              "  </thead>\n",
              "  <tbody>\n",
              "    <tr>\n",
              "      <th>0</th>\n",
              "      <td>1</td>\n",
              "      <td>F</td>\n",
              "      <td>1</td>\n",
              "      <td>10</td>\n",
              "      <td>48067</td>\n",
              "      <td>0</td>\n",
              "      <td>48</td>\n",
              "    </tr>\n",
              "    <tr>\n",
              "      <th>1</th>\n",
              "      <td>2</td>\n",
              "      <td>M</td>\n",
              "      <td>56</td>\n",
              "      <td>16</td>\n",
              "      <td>70072</td>\n",
              "      <td>1</td>\n",
              "      <td>70</td>\n",
              "    </tr>\n",
              "    <tr>\n",
              "      <th>2</th>\n",
              "      <td>3</td>\n",
              "      <td>M</td>\n",
              "      <td>25</td>\n",
              "      <td>15</td>\n",
              "      <td>55117</td>\n",
              "      <td>1</td>\n",
              "      <td>55</td>\n",
              "    </tr>\n",
              "    <tr>\n",
              "      <th>3</th>\n",
              "      <td>4</td>\n",
              "      <td>M</td>\n",
              "      <td>45</td>\n",
              "      <td>7</td>\n",
              "      <td>02460</td>\n",
              "      <td>1</td>\n",
              "      <td>02</td>\n",
              "    </tr>\n",
              "    <tr>\n",
              "      <th>4</th>\n",
              "      <td>5</td>\n",
              "      <td>M</td>\n",
              "      <td>25</td>\n",
              "      <td>20</td>\n",
              "      <td>55455</td>\n",
              "      <td>1</td>\n",
              "      <td>55</td>\n",
              "    </tr>\n",
              "    <tr>\n",
              "      <th>...</th>\n",
              "      <td>...</td>\n",
              "      <td>...</td>\n",
              "      <td>...</td>\n",
              "      <td>...</td>\n",
              "      <td>...</td>\n",
              "      <td>...</td>\n",
              "      <td>...</td>\n",
              "    </tr>\n",
              "    <tr>\n",
              "      <th>6035</th>\n",
              "      <td>6036</td>\n",
              "      <td>F</td>\n",
              "      <td>25</td>\n",
              "      <td>15</td>\n",
              "      <td>32603</td>\n",
              "      <td>0</td>\n",
              "      <td>32</td>\n",
              "    </tr>\n",
              "    <tr>\n",
              "      <th>6036</th>\n",
              "      <td>6037</td>\n",
              "      <td>F</td>\n",
              "      <td>45</td>\n",
              "      <td>1</td>\n",
              "      <td>76006</td>\n",
              "      <td>0</td>\n",
              "      <td>76</td>\n",
              "    </tr>\n",
              "    <tr>\n",
              "      <th>6037</th>\n",
              "      <td>6038</td>\n",
              "      <td>F</td>\n",
              "      <td>56</td>\n",
              "      <td>1</td>\n",
              "      <td>14706</td>\n",
              "      <td>0</td>\n",
              "      <td>14</td>\n",
              "    </tr>\n",
              "    <tr>\n",
              "      <th>6038</th>\n",
              "      <td>6039</td>\n",
              "      <td>F</td>\n",
              "      <td>45</td>\n",
              "      <td>0</td>\n",
              "      <td>01060</td>\n",
              "      <td>0</td>\n",
              "      <td>01</td>\n",
              "    </tr>\n",
              "    <tr>\n",
              "      <th>6039</th>\n",
              "      <td>6040</td>\n",
              "      <td>M</td>\n",
              "      <td>25</td>\n",
              "      <td>6</td>\n",
              "      <td>11106</td>\n",
              "      <td>1</td>\n",
              "      <td>11</td>\n",
              "    </tr>\n",
              "  </tbody>\n",
              "</table>\n",
              "<p>6040 rows × 7 columns</p>\n",
              "</div>"
            ],
            "text/plain": [
              "      user gender  age  occupation    zip  is_male zip_prefix\n",
              "0        1      F    1          10  48067        0         48\n",
              "1        2      M   56          16  70072        1         70\n",
              "2        3      M   25          15  55117        1         55\n",
              "3        4      M   45           7  02460        1         02\n",
              "4        5      M   25          20  55455        1         55\n",
              "...    ...    ...  ...         ...    ...      ...        ...\n",
              "6035  6036      F   25          15  32603        0         32\n",
              "6036  6037      F   45           1  76006        0         76\n",
              "6037  6038      F   56           1  14706        0         14\n",
              "6038  6039      F   45           0  01060        0         01\n",
              "6039  6040      M   25           6  11106        1         11\n",
              "\n",
              "[6040 rows x 7 columns]"
            ]
          },
          "execution_count": 16,
          "metadata": {},
          "output_type": "execute_result"
        }
      ],
      "source": [
        "user_data_df = pd.read_csv(USER_DATA, sep = '::', header=None).set_axis(['user', 'gender', 'age', 'occupation', 'zip'], axis = 1, inplace = False)\n",
        "user_data_df['is_male'] = user_data_df.gender.apply(lambda x: x == 'M').astype(\"int\")\n",
        "user_data_df['zip_prefix'] = user_data_df.zip.str[:2]\n",
        "user_data_df"
      ]
    },
    {
      "cell_type": "code",
      "execution_count": null,
      "metadata": {
        "colab": {
          "base_uri": "https://localhost:8080/",
          "height": 297
        },
        "id": "OKF7ixmbK8eZ",
        "outputId": "ee7d17a6-1500-48f7-8607-21ca021e1db9"
      },
      "outputs": [
        {
          "data": {
            "text/plain": [
              "<AxesSubplot: xlabel='zip_prefix', ylabel='Count'>"
            ]
          },
          "execution_count": 17,
          "metadata": {},
          "output_type": "execute_result"
        },
        {
          "data": {
            "image/png": "[encoded data removed]",
            "text/plain": [
              "<Figure size 640x480 with 1 Axes>"
            ]
          },
          "metadata": {},
          "output_type": "display_data"
        }
      ],
      "source": [
        "sns.histplot(data = user_data_df, x = 'zip_prefix')"
      ]
    },
    {
      "cell_type": "code",
      "execution_count": null,
      "metadata": {
        "colab": {
          "base_uri": "https://localhost:8080/"
        },
        "id": "NFMPIabKLGNQ",
        "outputId": "37688085-7192-456a-b99b-1689c173cd8a"
      },
      "outputs": [
        {
          "data": {
            "text/plain": [
              "55    415\n",
              "94    378\n",
              "60    239\n",
              "02    221\n",
              "92    217\n",
              "     ... \n",
              "86      5\n",
              "09      5\n",
              "25      3\n",
              "51      2\n",
              "69      1\n",
              "Name: zip_prefix, Length: 100, dtype: int64"
            ]
          },
          "execution_count": 19,
          "metadata": {},
          "output_type": "execute_result"
        }
      ],
      "source": [
        "user_data_df.zip_prefix.value_counts()"
      ]
    },
    {
      "cell_type": "code",
      "execution_count": null,
      "metadata": {
        "colab": {
          "base_uri": "https://localhost:8080/",
          "height": 765
        },
        "id": "gKYAB2CTcQkz",
        "outputId": "2ee396cd-c059-4968-ea70-9838c237c271"
      },
      "outputs": [
        {
          "name": "stderr",
          "output_type": "stream",
          "text": [
            "/tmp/ipykernel_613/2077648054.py:1: ParserWarning: Falling back to the 'python' engine because the 'c' engine does not support regex separators (separators > 1 char and different from '\\s+' are interpreted as regex); you can avoid this warning by specifying engine='python'.\n",
            "  movie_data_df = pd.read_csv(MOVIE_DATA, sep = '::', header=None, encoding='latin-1').set_axis(['item', 'title', 'genre'], axis = 1, inplace = False)\n",
            "/tmp/ipykernel_613/2077648054.py:1: FutureWarning: DataFrame.set_axis 'inplace' keyword is deprecated and will be removed in a future version. Use `obj = obj.set_axis(..., copy=False)` instead\n",
            "  movie_data_df = pd.read_csv(MOVIE_DATA, sep = '::', header=None, encoding='latin-1').set_axis(['item', 'title', 'genre'], axis = 1, inplace = False)\n"
          ]
        },
        {
          "data": {
            "text/html": [
              "<div>\n",
              "<style scoped>\n",
              "    .dataframe tbody tr th:only-of-type {\n",
              "        vertical-align: middle;\n",
              "    }\n",
              "\n",
              "    .dataframe tbody tr th {\n",
              "        vertical-align: top;\n",
              "    }\n",
              "\n",
              "    .dataframe thead th {\n",
              "        text-align: right;\n",
              "    }\n",
              "</style>\n",
              "<table border=\"1\" class=\"dataframe\">\n",
              "  <thead>\n",
              "    <tr style=\"text-align: right;\">\n",
              "      <th></th>\n",
              "      <th>item</th>\n",
              "      <th>title</th>\n",
              "      <th>genre</th>\n",
              "      <th>release</th>\n",
              "      <th>genre_cat</th>\n",
              "      <th>release_year_norm</th>\n",
              "      <th>release_year_sqrt</th>\n",
              "      <th>release_year_sq</th>\n",
              "    </tr>\n",
              "  </thead>\n",
              "  <tbody>\n",
              "    <tr>\n",
              "      <th>0</th>\n",
              "      <td>1</td>\n",
              "      <td>Toy Story</td>\n",
              "      <td>[Animation, Children's, Comedy]</td>\n",
              "      <td>1995</td>\n",
              "      <td>[2, 3, 4]</td>\n",
              "      <td>0.938272</td>\n",
              "      <td>0.968644</td>\n",
              "      <td>0.880354</td>\n",
              "    </tr>\n",
              "    <tr>\n",
              "      <th>1</th>\n",
              "      <td>2</td>\n",
              "      <td>Jumanji</td>\n",
              "      <td>[Adventure, Children's, Fantasy]</td>\n",
              "      <td>1995</td>\n",
              "      <td>[1, 3, 8]</td>\n",
              "      <td>0.938272</td>\n",
              "      <td>0.968644</td>\n",
              "      <td>0.880354</td>\n",
              "    </tr>\n",
              "    <tr>\n",
              "      <th>2</th>\n",
              "      <td>3</td>\n",
              "      <td>Grumpier Old Men</td>\n",
              "      <td>[Comedy, Romance]</td>\n",
              "      <td>1995</td>\n",
              "      <td>[4, 13]</td>\n",
              "      <td>0.938272</td>\n",
              "      <td>0.968644</td>\n",
              "      <td>0.880354</td>\n",
              "    </tr>\n",
              "    <tr>\n",
              "      <th>3</th>\n",
              "      <td>4</td>\n",
              "      <td>Waiting to Exhale</td>\n",
              "      <td>[Comedy, Drama]</td>\n",
              "      <td>1995</td>\n",
              "      <td>[4, 7]</td>\n",
              "      <td>0.938272</td>\n",
              "      <td>0.968644</td>\n",
              "      <td>0.880354</td>\n",
              "    </tr>\n",
              "    <tr>\n",
              "      <th>4</th>\n",
              "      <td>5</td>\n",
              "      <td>Father of the Bride Part II</td>\n",
              "      <td>[Comedy]</td>\n",
              "      <td>1995</td>\n",
              "      <td>[4]</td>\n",
              "      <td>0.938272</td>\n",
              "      <td>0.968644</td>\n",
              "      <td>0.880354</td>\n",
              "    </tr>\n",
              "    <tr>\n",
              "      <th>...</th>\n",
              "      <td>...</td>\n",
              "      <td>...</td>\n",
              "      <td>...</td>\n",
              "      <td>...</td>\n",
              "      <td>...</td>\n",
              "      <td>...</td>\n",
              "      <td>...</td>\n",
              "      <td>...</td>\n",
              "    </tr>\n",
              "    <tr>\n",
              "      <th>3878</th>\n",
              "      <td>3948</td>\n",
              "      <td>Meet the Parents</td>\n",
              "      <td>[Comedy]</td>\n",
              "      <td>2000</td>\n",
              "      <td>[4]</td>\n",
              "      <td>1.000000</td>\n",
              "      <td>1.000000</td>\n",
              "      <td>1.000000</td>\n",
              "    </tr>\n",
              "    <tr>\n",
              "      <th>3879</th>\n",
              "      <td>3949</td>\n",
              "      <td>Requiem for a Dream</td>\n",
              "      <td>[Drama]</td>\n",
              "      <td>2000</td>\n",
              "      <td>[7]</td>\n",
              "      <td>1.000000</td>\n",
              "      <td>1.000000</td>\n",
              "      <td>1.000000</td>\n",
              "    </tr>\n",
              "    <tr>\n",
              "      <th>3880</th>\n",
              "      <td>3950</td>\n",
              "      <td>Tigerland</td>\n",
              "      <td>[Drama]</td>\n",
              "      <td>2000</td>\n",
              "      <td>[7]</td>\n",
              "      <td>1.000000</td>\n",
              "      <td>1.000000</td>\n",
              "      <td>1.000000</td>\n",
              "    </tr>\n",
              "    <tr>\n",
              "      <th>3881</th>\n",
              "      <td>3951</td>\n",
              "      <td>Two Family House</td>\n",
              "      <td>[Drama]</td>\n",
              "      <td>2000</td>\n",
              "      <td>[7]</td>\n",
              "      <td>1.000000</td>\n",
              "      <td>1.000000</td>\n",
              "      <td>1.000000</td>\n",
              "    </tr>\n",
              "    <tr>\n",
              "      <th>3882</th>\n",
              "      <td>3952</td>\n",
              "      <td>Contender, The</td>\n",
              "      <td>[Drama, Thriller]</td>\n",
              "      <td>2000</td>\n",
              "      <td>[7, 15]</td>\n",
              "      <td>1.000000</td>\n",
              "      <td>1.000000</td>\n",
              "      <td>1.000000</td>\n",
              "    </tr>\n",
              "  </tbody>\n",
              "</table>\n",
              "<p>3883 rows × 8 columns</p>\n",
              "</div>"
            ],
            "text/plain": [
              "      item                         title                             genre  \\\n",
              "0        1                    Toy Story    [Animation, Children's, Comedy]   \n",
              "1        2                      Jumanji   [Adventure, Children's, Fantasy]   \n",
              "2        3             Grumpier Old Men                  [Comedy, Romance]   \n",
              "3        4            Waiting to Exhale                    [Comedy, Drama]   \n",
              "4        5  Father of the Bride Part II                           [Comedy]   \n",
              "...    ...                           ...                               ...   \n",
              "3878  3948             Meet the Parents                           [Comedy]   \n",
              "3879  3949          Requiem for a Dream                            [Drama]   \n",
              "3880  3950                    Tigerland                            [Drama]   \n",
              "3881  3951             Two Family House                            [Drama]   \n",
              "3882  3952               Contender, The                  [Drama, Thriller]   \n",
              "\n",
              "      release  genre_cat  release_year_norm  release_year_sqrt  \\\n",
              "0        1995  [2, 3, 4]           0.938272           0.968644   \n",
              "1        1995  [1, 3, 8]           0.938272           0.968644   \n",
              "2        1995    [4, 13]           0.938272           0.968644   \n",
              "3        1995     [4, 7]           0.938272           0.968644   \n",
              "4        1995        [4]           0.938272           0.968644   \n",
              "...       ...        ...                ...                ...   \n",
              "3878     2000        [4]           1.000000           1.000000   \n",
              "3879     2000        [7]           1.000000           1.000000   \n",
              "3880     2000        [7]           1.000000           1.000000   \n",
              "3881     2000        [7]           1.000000           1.000000   \n",
              "3882     2000    [7, 15]           1.000000           1.000000   \n",
              "\n",
              "      release_year_sq  \n",
              "0            0.880354  \n",
              "1            0.880354  \n",
              "2            0.880354  \n",
              "3            0.880354  \n",
              "4            0.880354  \n",
              "...               ...  \n",
              "3878         1.000000  \n",
              "3879         1.000000  \n",
              "3880         1.000000  \n",
              "3881         1.000000  \n",
              "3882         1.000000  \n",
              "\n",
              "[3883 rows x 8 columns]"
            ]
          },
          "execution_count": 20,
          "metadata": {},
          "output_type": "execute_result"
        }
      ],
      "source": [
        "movie_data_df = pd.read_csv(MOVIE_DATA, sep = '::', header=None, encoding='latin-1').set_axis(['item', 'title', 'genre'], axis = 1, inplace = False)\n",
        "movie_data_df[\"release\"] = movie_data_df[\"title\"].apply(lambda x: x.split('(')[-1].split(')')[0]).astype(\"int\")\n",
        "movie_data_df[\"title\"] = movie_data_df[\"title\"].apply(lambda x: x.split('(')[0])\n",
        "movie_data_df['genre'] = movie_data_df.genre.str.split(\"|\")\n",
        "genres = movie_data_df.genre.explode().astype('category').cat.categories.to_list()\n",
        "genres_dict = {k:i for i,k in enumerate(genres)}\n",
        "movie_data_df['genre_cat'] = movie_data_df.genre.apply(lambda x: [genres_dict[k] for k in x])\n",
        "min_year = movie_data_df.release.min()\n",
        "max_year = movie_data_df.release.max()\n",
        "movie_data_df['release_year_norm'] = movie_data_df.release.apply(lambda x: (x-min_year) / (max_year - min_year))\n",
        "movie_data_df['release_year_sqrt'] = movie_data_df.release_year_norm.apply(np.sqrt)\n",
        "movie_data_df['release_year_sq'] = movie_data_df.release_year_norm.apply(lambda x: x**2)\n",
        "movie_data_df"
      ]
    },
    {
      "cell_type": "code",
      "execution_count": null,
      "metadata": {
        "id": "2HYan3SHvMBa",
        "outputId": "1e9c4fdb-2302-4708-8aae-4a4177b3c2e7"
      },
      "outputs": [
        {
          "data": {
            "text/plain": [
              "6"
            ]
          },
          "execution_count": 22,
          "metadata": {},
          "output_type": "execute_result"
        }
      ],
      "source": [
        "movie_data_df.genre_cat.apply(len).max()"
      ]
    },
    {
      "cell_type": "code",
      "execution_count": null,
      "metadata": {
        "id": "qi_eNOTUV_Go"
      },
      "outputs": [],
      "source": [
        "\n",
        "#my extension of the dataset class for pytorch's data loader.\n",
        "class TrainDataset(TorchDataset):\n",
        "    def __init__(self, item, rating, history, genre_cat, release_year_norm,\n",
        "      release_year_sqrt, release_year_sq, label):\n",
        "        super(TrainDataset, self).__init__()\n",
        "        self.len = len(item)\n",
        "        self.item = item\n",
        "        self.rating = rating\n",
        "        self.history = history\n",
        "        self.genre_cat = genre_cat\n",
        "        self.release_year_norm = release_year_norm\n",
        "        self.release_year_sqrt = release_year_sqrt\n",
        "        self.release_year_sq = release_year_sq\n",
        "        self.label = label\n",
        "\n",
        "\n",
        "    def __len__(self):\n",
        "        return self.len\n",
        "\n",
        "    def __getitem__(self, idx):\n",
        "        item = self.item[idx]\n",
        "        rating = self.rating[idx]\n",
        "        history = self.history[idx]\n",
        "        genre_cat = self.genre_cat[idx]\n",
        "        release_year_norm = self.release_year_norm[idx]\n",
        "        release_year_sqrt = self.release_year_sqrt[idx]\n",
        "        release_year_sq = self.release_year_sq[idx]\n",
        "        label = self.label[idx]\n",
        "        return item, rating, history, genre_cat, release_year_norm, release_year_sqrt, release_year_sq, label\n",
        "\n",
        "\n",
        "def add_negative_examples(df, movie_data_df, num_negatives):\n",
        "  new_df = []\n",
        "  num_items = len(movie_data_df)\n",
        "  for row in tqdm(df.iterrows()):\n",
        "    row = row[1]\n",
        "    row['label'] = 1\n",
        "    new_df.append(row.values)\n",
        "    new_row = row.copy()\n",
        "    new_row['label'] = 0\n",
        "    new_row['rating'] = 1\n",
        "    for t in range(num_negatives):\n",
        "      j = np.random.randint(num_items)\n",
        "      while j == row['item']:\n",
        "        j = np.random.randint(num_items)\n",
        "      new_row['item'] = j\n",
        "      new_df.append(new_row.to_list())\n",
        "  mask = ['item', 'rating','history', 'genre_cat', 'release_year_norm', 'release_year_sqrt', 'release_year_sq','label']\n",
        "  columns = df.columns\n",
        "  new_df = pd.DataFrame(new_df, columns = df.columns.to_list() + ['label']).merge(movie_data_df, how = 'left', on = 'item').loc[:,mask]\n",
        "  new_df.genre_cat = new_df.genre_cat.apply(lambda x: x if isinstance(x,list) else [])\n",
        "  max_genres = movie_data_df.genre_cat.apply(len).max()\n",
        "  new_df.genre_cat = new_df.genre_cat.apply(lambda arr:  arr + (max_genres - len(arr)) * [0])\n",
        "  return  new_df\n",
        "\n",
        "def df2ds(df):\n",
        "  return TrainDataset(\n",
        "  df.item.to_list(), \n",
        "  df.rating.to_list(),\n",
        "  df.history.to_list(),\n",
        "  df.genre_cat.to_list(),\n",
        "  df.release_year_norm.to_list(),\n",
        "  df.release_year_sqrt.to_list(),\n",
        "  df.release_year_sq.to_list(),\n",
        "  df.label.to_list()\n",
        "  )\n",
        "\n",
        "\n"
      ]
    },
    {
      "cell_type": "code",
      "execution_count": null,
      "metadata": {
        "id": "We-Yb3-VvMBb"
      },
      "outputs": [],
      "source": [
        "# run first time for creating dataset with negative examples and save it to csv\n",
        "#train = add_negative_examples(df, movie_data_df, 4)\n",
        "#train.to_csv(\"train.csv\")"
      ]
    },
    {
      "cell_type": "code",
      "execution_count": null,
      "metadata": {
        "id": "rvI-sbgLvMBb",
        "outputId": "6c181f67-922d-47a0-e314-bcfe03d46ded"
      },
      "outputs": [
        {
          "name": "stdout",
          "output_type": "stream",
          "text": [
            "creating negative exampels\n"
          ]
        },
        {
          "name": "stderr",
          "output_type": "stream",
          "text": [
            "994168it [07:29, 2214.14it/s]\n"
          ]
        },
        {
          "name": "stdout",
          "output_type": "stream",
          "text": [
            "cleaning data\n",
            "creating dataset\n"
          ]
        }
      ],
      "source": [
        "print(\"creating negative exampels\")\n",
        "train = add_negative_examples(df, movie_data_df, 4)\n",
        "print(\"cleaning data\")\n",
        "train.fillna(0, inplace = True)\n",
        "print(\"creating dataset\")\n",
        "train = df2ds(train)"
      ]
    },
    {
      "cell_type": "code",
      "execution_count": null,
      "metadata": {
        "id": "WGiYGjzBvMBc",
        "outputId": "57ed62eb-9634-4bab-fced-1dcd8bc3f060"
      },
      "outputs": [
        {
          "data": {
            "text/html": [
              "<div>\n",
              "<style scoped>\n",
              "    .dataframe tbody tr th:only-of-type {\n",
              "        vertical-align: middle;\n",
              "    }\n",
              "\n",
              "    .dataframe tbody tr th {\n",
              "        vertical-align: top;\n",
              "    }\n",
              "\n",
              "    .dataframe thead th {\n",
              "        text-align: right;\n",
              "    }\n",
              "</style>\n",
              "<table border=\"1\" class=\"dataframe\">\n",
              "  <thead>\n",
              "    <tr style=\"text-align: right;\">\n",
              "      <th></th>\n",
              "      <th>user</th>\n",
              "      <th>item</th>\n",
              "      <th>label</th>\n",
              "      <th>history</th>\n",
              "      <th>genre_cat</th>\n",
              "      <th>release_year_norm</th>\n",
              "      <th>release_year_sqrt</th>\n",
              "      <th>release_year_sq</th>\n",
              "      <th>rating</th>\n",
              "    </tr>\n",
              "  </thead>\n",
              "  <tbody>\n",
              "    <tr>\n",
              "      <th>304779</th>\n",
              "      <td>0</td>\n",
              "      <td>3352</td>\n",
              "      <td>0</td>\n",
              "      <td>[28, 23, 29, 33, 40, 10, 16, 4, 35, 30]</td>\n",
              "      <td>[7, 0, 0, 0, 0, 0]</td>\n",
              "      <td>0.975309</td>\n",
              "      <td>0.987577</td>\n",
              "      <td>0.951227</td>\n",
              "      <td>1</td>\n",
              "    </tr>\n",
              "    <tr>\n",
              "      <th>305271</th>\n",
              "      <td>0</td>\n",
              "      <td>1721</td>\n",
              "      <td>0</td>\n",
              "      <td>[28, 23, 29, 33, 40, 10, 16, 4, 35, 30]</td>\n",
              "      <td>[7, 13, 0, 0, 0, 0]</td>\n",
              "      <td>0.962963</td>\n",
              "      <td>0.981307</td>\n",
              "      <td>0.927298</td>\n",
              "      <td>1</td>\n",
              "    </tr>\n",
              "    <tr>\n",
              "      <th>305436</th>\n",
              "      <td>0</td>\n",
              "      <td>3512</td>\n",
              "      <td>0</td>\n",
              "      <td>[28, 23, 29, 33, 40, 10, 16, 4, 35, 30]</td>\n",
              "      <td>[7, 13, 0, 0, 0, 0]</td>\n",
              "      <td>1.000000</td>\n",
              "      <td>1.000000</td>\n",
              "      <td>1.000000</td>\n",
              "      <td>1</td>\n",
              "    </tr>\n",
              "    <tr>\n",
              "      <th>305619</th>\n",
              "      <td>0</td>\n",
              "      <td>3656</td>\n",
              "      <td>0</td>\n",
              "      <td>[28, 23, 29, 33, 40, 10, 16, 4, 35, 30]</td>\n",
              "      <td>[5, 0, 0, 0, 0, 0]</td>\n",
              "      <td>0.345679</td>\n",
              "      <td>0.587945</td>\n",
              "      <td>0.119494</td>\n",
              "      <td>1</td>\n",
              "    </tr>\n",
              "    <tr>\n",
              "      <th>305794</th>\n",
              "      <td>0</td>\n",
              "      <td>998</td>\n",
              "      <td>0</td>\n",
              "      <td>[28, 23, 29, 33, 40, 10, 16, 4, 35, 30]</td>\n",
              "      <td>[0, 5, 0, 0, 0, 0]</td>\n",
              "      <td>0.950617</td>\n",
              "      <td>0.974996</td>\n",
              "      <td>0.903673</td>\n",
              "      <td>1</td>\n",
              "    </tr>\n",
              "    <tr>\n",
              "      <th>...</th>\n",
              "      <td>...</td>\n",
              "      <td>...</td>\n",
              "      <td>...</td>\n",
              "      <td>...</td>\n",
              "      <td>...</td>\n",
              "      <td>...</td>\n",
              "      <td>...</td>\n",
              "      <td>...</td>\n",
              "      <td>...</td>\n",
              "    </tr>\n",
              "    <tr>\n",
              "      <th>194440</th>\n",
              "      <td>6039</td>\n",
              "      <td>1826</td>\n",
              "      <td>0</td>\n",
              "      <td>[1535, 693, 289, 509, 151, 203, 1033, 1272, 16...</td>\n",
              "      <td>[1, 3, 0, 0, 0, 0]</td>\n",
              "      <td>0.975309</td>\n",
              "      <td>0.987577</td>\n",
              "      <td>0.951227</td>\n",
              "      <td>1</td>\n",
              "    </tr>\n",
              "    <tr>\n",
              "      <th>476027</th>\n",
              "      <td>6039</td>\n",
              "      <td>3019</td>\n",
              "      <td>0</td>\n",
              "      <td>[1535, 693, 289, 509, 151, 203, 1033, 1272, 16...</td>\n",
              "      <td>[5, 7, 0, 0, 0, 0]</td>\n",
              "      <td>0.864198</td>\n",
              "      <td>0.929622</td>\n",
              "      <td>0.746837</td>\n",
              "      <td>1</td>\n",
              "    </tr>\n",
              "    <tr>\n",
              "      <th>35712</th>\n",
              "      <td>6039</td>\n",
              "      <td>2199</td>\n",
              "      <td>0</td>\n",
              "      <td>[1535, 693, 289, 509, 151, 203, 1033, 1272, 16...</td>\n",
              "      <td>[5, 7, 0, 0, 0, 0]</td>\n",
              "      <td>0.975309</td>\n",
              "      <td>0.987577</td>\n",
              "      <td>0.951227</td>\n",
              "      <td>1</td>\n",
              "    </tr>\n",
              "    <tr>\n",
              "      <th>253769</th>\n",
              "      <td>6039</td>\n",
              "      <td>1006</td>\n",
              "      <td>0</td>\n",
              "      <td>[1535, 693, 289, 509, 151, 203, 1033, 1272, 16...</td>\n",
              "      <td>[7, 0, 0, 0, 0, 0]</td>\n",
              "      <td>0.950617</td>\n",
              "      <td>0.974996</td>\n",
              "      <td>0.903673</td>\n",
              "      <td>1</td>\n",
              "    </tr>\n",
              "    <tr>\n",
              "      <th>56994</th>\n",
              "      <td>6039</td>\n",
              "      <td>195</td>\n",
              "      <td>0</td>\n",
              "      <td>[1535, 693, 289, 509, 151, 203, 1033, 1272, 16...</td>\n",
              "      <td>[4, 7, 13, 0, 0, 0]</td>\n",
              "      <td>0.938272</td>\n",
              "      <td>0.968644</td>\n",
              "      <td>0.880354</td>\n",
              "      <td>1</td>\n",
              "    </tr>\n",
              "  </tbody>\n",
              "</table>\n",
              "<p>592894 rows × 9 columns</p>\n",
              "</div>"
            ],
            "text/plain": [
              "        user  item  label                                            history  \\\n",
              "304779     0  3352      0            [28, 23, 29, 33, 40, 10, 16, 4, 35, 30]   \n",
              "305271     0  1721      0            [28, 23, 29, 33, 40, 10, 16, 4, 35, 30]   \n",
              "305436     0  3512      0            [28, 23, 29, 33, 40, 10, 16, 4, 35, 30]   \n",
              "305619     0  3656      0            [28, 23, 29, 33, 40, 10, 16, 4, 35, 30]   \n",
              "305794     0   998      0            [28, 23, 29, 33, 40, 10, 16, 4, 35, 30]   \n",
              "...      ...   ...    ...                                                ...   \n",
              "194440  6039  1826      0  [1535, 693, 289, 509, 151, 203, 1033, 1272, 16...   \n",
              "476027  6039  3019      0  [1535, 693, 289, 509, 151, 203, 1033, 1272, 16...   \n",
              "35712   6039  2199      0  [1535, 693, 289, 509, 151, 203, 1033, 1272, 16...   \n",
              "253769  6039  1006      0  [1535, 693, 289, 509, 151, 203, 1033, 1272, 16...   \n",
              "56994   6039   195      0  [1535, 693, 289, 509, 151, 203, 1033, 1272, 16...   \n",
              "\n",
              "                  genre_cat  release_year_norm  release_year_sqrt  \\\n",
              "304779   [7, 0, 0, 0, 0, 0]           0.975309           0.987577   \n",
              "305271  [7, 13, 0, 0, 0, 0]           0.962963           0.981307   \n",
              "305436  [7, 13, 0, 0, 0, 0]           1.000000           1.000000   \n",
              "305619   [5, 0, 0, 0, 0, 0]           0.345679           0.587945   \n",
              "305794   [0, 5, 0, 0, 0, 0]           0.950617           0.974996   \n",
              "...                     ...                ...                ...   \n",
              "194440   [1, 3, 0, 0, 0, 0]           0.975309           0.987577   \n",
              "476027   [5, 7, 0, 0, 0, 0]           0.864198           0.929622   \n",
              "35712    [5, 7, 0, 0, 0, 0]           0.975309           0.987577   \n",
              "253769   [7, 0, 0, 0, 0, 0]           0.950617           0.974996   \n",
              "56994   [4, 7, 13, 0, 0, 0]           0.938272           0.968644   \n",
              "\n",
              "        release_year_sq  rating  \n",
              "304779         0.951227       1  \n",
              "305271         0.927298       1  \n",
              "305436         1.000000       1  \n",
              "305619         0.119494       1  \n",
              "305794         0.903673       1  \n",
              "...                 ...     ...  \n",
              "194440         0.951227       1  \n",
              "476027         0.746837       1  \n",
              "35712          0.951227       1  \n",
              "253769         0.903673       1  \n",
              "56994          0.880354       1  \n",
              "\n",
              "[592894 rows x 9 columns]"
            ]
          },
          "execution_count": 253,
          "metadata": {},
          "output_type": "execute_result"
        }
      ],
      "source": [
        "test = pd.read_csv(TEST, sep = '\\t').set_axis(labels = ['user', 'item', 'rating', 'timestamp'], axis = 1)\n",
        "test['label'] = 1\n",
        "negatives = []\n",
        "with open(NEG, \"r\") as f:\n",
        "    for row in f.readlines():\n",
        "        row = row.split(\"\\t\")\n",
        "        user, real_item = eval(row[0])\n",
        "        row = row[1:]\n",
        "        [negatives.append([user, int(item), 0]) for item in row]\n",
        "neg_df = pd.DataFrame(negatives, columns = ['user', 'item','label'])\n",
        "test_df = pd.concat([test[['user', 'item','label']], neg_df])\n",
        "temp_df = df.merge(df.groupby('user')['timestamp'].max().rename('max_timestamp'), left_on = 'user', right_index= True)\n",
        "user_history = temp_df.loc[temp_df.timestamp == temp_df.max_timestamp].drop_duplicates(subset = ['user', 'timestamp'], keep = 'last')[['user','history']]\n",
        "test_df = test_df.merge(user_history, on = 'user', how = 'left')\n",
        "movie_mask = ['item', 'genre_cat', 'release_year_norm', 'release_year_sqrt', 'release_year_sq']\n",
        "test_df = test_df.merge(movie_data_df[movie_mask], on = 'item')\n",
        "test_df.genre_cat = test_df.genre_cat.apply(lambda x: x if isinstance(x,list) else [])\n",
        "max_genres = movie_data_df.genre_cat.apply(len).max()\n",
        "test_df.genre_cat = test_df.genre_cat.apply(lambda arr:  arr + (max_genres - len(arr)) * [0])\n",
        "test_df['rating'] = 1\n",
        "test_df.sort_values('user')\n",
        "test_ds = df2ds(test_df)"
      ]
    },
    {
      "cell_type": "markdown",
      "metadata": {
        "id": "Aa_49PWOV-66"
      },
      "source": [
        "# Watch history based candidate generation"
      ]
    },
    {
      "cell_type": "markdown",
      "metadata": {
        "id": "wwpf5XrcYYR_"
      },
      "source": [
        "- build model for training embeddings\n",
        "- buid collabrative filtering inference\n",
        "- build test and metrics for the first network"
      ]
    },
    {
      "cell_type": "code",
      "execution_count": null,
      "metadata": {
        "id": "0lCXm_Q6YMJ3"
      },
      "outputs": [],
      "source": []
    },
    {
      "cell_type": "markdown",
      "metadata": {
        "id": "cz_WFJAIcAWX"
      },
      "source": [
        "## Ranking"
      ]
    },
    {
      "cell_type": "code",
      "execution_count": null,
      "metadata": {
        "id": "4h9R1suevMBd",
        "outputId": "748b3c6a-4733-4db1-e527-7ea006a389b1"
      },
      "outputs": [
        {
          "name": "stdout",
          "output_type": "stream",
          "text": [
            "RankingNetwork(\n",
            "  (item_embed): Embedding(3883, 16)\n",
            "  (cat_embed): Embedding(18, 8)\n",
            "  (fc1): Linear(in_features=43, out_features=64, bias=True)\n",
            "  (fc2): Linear(in_features=64, out_features=32, bias=True)\n",
            "  (fc3): Linear(in_features=32, out_features=16, bias=True)\n",
            "  (out): Linear(in_features=16, out_features=1, bias=True)\n",
            ")\n"
          ]
        }
      ],
      "source": [
        "batch_size = 1024\n",
        "lr = 1e-2\n",
        "reg = 1e-3\n",
        "item_embed_dim = 16\n",
        "cat_embed_dim = 8\n",
        "relu_layers_dims = [64, 32, 16]\n",
        "\n",
        "trainloader = DataLoader(train, batch_size = batch_size, shuffle = False)\n",
        "\n",
        "num_items = len(movie_data_df)\n",
        "num_categories = len(genres) \n",
        "cont_features = ['release_year_norm', 'release_year_sqrt', 'release_year_sq']\n",
        "num_cont_features = len(cont_features)\n",
        "\n",
        "class RankingNetwork(nn.Module):\n",
        "    def __init__(self, item_embed_dim, cat_embed_dim):\n",
        "        super(RankingNetwork, self).__init__()\n",
        "        self.item_embed = Embedding(num_items, item_embed_dim)\n",
        "        self.cat_embed = Embedding(num_categories, cat_embed_dim)\n",
        "        fc1_in = 2 * item_embed_dim + cat_embed_dim + num_cont_features\n",
        "        self.fc1 = Linear(in_features= fc1_in, out_features= relu_layers_dims[0])\n",
        "        self.fc2 = Linear(in_features = relu_layers_dims[0], out_features = relu_layers_dims[1])\n",
        "        self.fc3 = Linear(in_features = relu_layers_dims[1], out_features= relu_layers_dims[2])\n",
        "        self.out = Linear(in_features = relu_layers_dims[2], out_features = 1)\n",
        "\n",
        "    def evaluate_test(self, test_ds, criterion):\n",
        "        item_test = torch.tensor(test_ds.item).to(device)\n",
        "        rating_test = torch.tensor(test_ds.rating).to(device)\n",
        "        history_test = torch.stack([torch.tensor(x) for x in test_ds.history]).to(device)\n",
        "        genre_cat_test = torch.stack([torch.tensor(x) for x in test_ds.genre_cat]).to(device)\n",
        "        release_year_norm_test = torch.tensor(test_ds.release_year_norm).to(device)\n",
        "        release_year_sq_test = torch.tensor(test_ds.release_year_sq).to(device)\n",
        "        release_year_sqrt_test = torch.tensor(test_ds.release_year_sqrt).to(device)\n",
        "        label_test = torch.tensor(test_ds.label).to(dtype = torch.float32, device = device)\n",
        "        with torch.no_grad():\n",
        "            pred_test = self.forward(item_test, \n",
        "                            history_test, \n",
        "                            genre_cat_test, \n",
        "                            release_year_norm_test, \n",
        "                            release_year_sqrt_test,\n",
        "                            release_year_sq_test,\n",
        "                            rating_test)\n",
        "        test_loss = criterion(torch.squeeze(pred_test), label_test)/len(test_ds.label)\n",
        "        print(test_loss)\n",
        "        return test_loss\n",
        "    \n",
        "    def forward(self, item, watch_history, genres, release_year_norm, release_year_sqrt, release_year_sq, rating):\n",
        "        # get embeddings\n",
        "        item_vector = self.item_embed(item.type(torch.int64))\n",
        "        watch_history_vec = torch.mean(self.item_embed(watch_history), axis = 1)\n",
        "        cat_vec = torch.mean(self.cat_embed(genres), axis = 1)\n",
        "\n",
        "        # vector of continuos features\n",
        "        cont_features_vector = torch.transpose(torch.stack([release_year_norm, release_year_sqrt, release_year_sq]), 1, 0)\n",
        "\n",
        "        # stack all vectors to one\n",
        "        x = torch.concat([item_vector, watch_history_vec, cat_vec, cont_features_vector], axis = 1).type(torch.float32)\n",
        "\n",
        "        # propagate through network\n",
        "        x = F.relu(self.fc1(x))\n",
        "        x = F.relu(self.fc2(x))\n",
        "        x = F.relu(self.fc3(x))\n",
        "        x = self.out(x)\n",
        "        # non weighted logistic regression\n",
        "        x = torch.squeeze(x)# * rating\n",
        "\n",
        "        #return F.sigmoid(torch.mul(rating, torch.squeeze(self.out(x))))\n",
        "        return torch.sigmoid(x)\n",
        "    \n",
        "    def train(self, train_data, lr, reg, epochs, test):\n",
        "            self.train_time = time()\n",
        "            self.loss_history = []\n",
        "            self.test_loss_history = []\n",
        "            criterion = nn.BCELoss(reduction='sum')\n",
        "            optimizer = torch.optim.Adam(self.parameters(), lr = lr, weight_decay = reg)\n",
        "            loss_norm_factor = len(train_data.label)\n",
        "            for epoch in range(epochs):\n",
        "                epoch_loss = 0\n",
        "                for i, batch in enumerate(tqdm(trainloader)):\n",
        "                    item, rating, history, genre_cat, release_year_norm, release_year_sqrt, release_year_sq, label = batch\n",
        "                    item = item.to(device)\n",
        "                    rating = rating.to(device)\n",
        "                    history = torch.transpose(torch.stack(history), 1, 0).to(device)\n",
        "                    genre_cat = torch.transpose(torch.stack(genre_cat), 1, 0).to(device)\n",
        "                    release_year_norm = release_year_norm.to(device)\n",
        "                    release_year_sq = release_year_sq.to(device)\n",
        "                    release_year_sqrt = release_year_sqrt.to(device)\n",
        "                    label = label.to(dtype = torch.float32, device = device)\n",
        "                    #reset grad\n",
        "                    optimizer.zero_grad()\n",
        "\n",
        "                    #forward and backward pass\n",
        "                    pred = self.forward(item, \n",
        "                                        history, \n",
        "                                        genre_cat, \n",
        "                                        release_year_norm, \n",
        "                                        release_year_sqrt,\n",
        "                                        release_year_sq,\n",
        "                                        rating)\n",
        "                    \n",
        "                \n",
        "                    loss = criterion(torch.squeeze(pred), label)\n",
        "                    epoch_loss += loss / loss_norm_factor\n",
        "                    \n",
        "                    loss.backward()\n",
        "                    optimizer.step()\n",
        "                    \n",
        "                self.loss_history.append(epoch_loss)\n",
        "                test_loss = self.evaluate_test(test, criterion)\n",
        "                self.test_loss_history.append(test_loss)\n",
        "                print(f\"epoch {epoch} loss: {epoch_loss} validation: {test_loss}\")\n",
        "            self.train_time = time() - self.train_time\n",
        "\n",
        "\n",
        "ranking_nw = RankingNetwork(item_embed_dim, cat_embed_dim)\n",
        "ranking_nw = ranking_nw.to(device)\n",
        "print(ranking_nw)\n",
        "\n"
      ]
    },
    {
      "cell_type": "code",
      "execution_count": null,
      "metadata": {
        "id": "BlIpqZ6Ib_O8",
        "outputId": "c96722d7-fa6c-43cf-9687-7c0ca9a5159e"
      },
      "outputs": [
        {
          "name": "stderr",
          "output_type": "stream",
          "text": [
            "  5%|▍         | 229/4855 [00:03<01:18, 58.70it/s]\n"
          ]
        },
        {
          "ename": "KeyboardInterrupt",
          "evalue": "",
          "output_type": "error",
          "traceback": [
            "\u001b[0;31m---------------------------------------------------------------------------\u001b[0m",
            "\u001b[0;31mKeyboardInterrupt\u001b[0m                         Traceback (most recent call last)",
            "Cell \u001b[0;32mIn[281], line 2\u001b[0m\n\u001b[1;32m      1\u001b[0m epochs \u001b[39m=\u001b[39m \u001b[39m10\u001b[39m\n\u001b[0;32m----> 2\u001b[0m ranking_nw\u001b[39m.\u001b[39;49mtrain(train, lr, reg, epochs, test_ds)\n",
            "Cell \u001b[0;32mIn[280], line 79\u001b[0m, in \u001b[0;36mRankingNetwork.train\u001b[0;34m(self, train_data, lr, reg, epochs, test)\u001b[0m\n\u001b[1;32m     77\u001b[0m \u001b[39mfor\u001b[39;00m epoch \u001b[39min\u001b[39;00m \u001b[39mrange\u001b[39m(epochs):\n\u001b[1;32m     78\u001b[0m     epoch_loss \u001b[39m=\u001b[39m \u001b[39m0\u001b[39m\n\u001b[0;32m---> 79\u001b[0m     \u001b[39mfor\u001b[39;00m i, batch \u001b[39min\u001b[39;00m \u001b[39menumerate\u001b[39m(tqdm(trainloader)):\n\u001b[1;32m     80\u001b[0m         item, rating, history, genre_cat, release_year_norm, release_year_sqrt, release_year_sq, label \u001b[39m=\u001b[39m batch\n\u001b[1;32m     81\u001b[0m         item \u001b[39m=\u001b[39m item\u001b[39m.\u001b[39mto(device)\n",
            "File \u001b[0;32m~/.local/lib/python3.10/site-packages/tqdm/std.py:1195\u001b[0m, in \u001b[0;36mtqdm.__iter__\u001b[0;34m(self)\u001b[0m\n\u001b[1;32m   1192\u001b[0m time \u001b[39m=\u001b[39m \u001b[39mself\u001b[39m\u001b[39m.\u001b[39m_time\n\u001b[1;32m   1194\u001b[0m \u001b[39mtry\u001b[39;00m:\n\u001b[0;32m-> 1195\u001b[0m     \u001b[39mfor\u001b[39;00m obj \u001b[39min\u001b[39;00m iterable:\n\u001b[1;32m   1196\u001b[0m         \u001b[39myield\u001b[39;00m obj\n\u001b[1;32m   1197\u001b[0m         \u001b[39m# Update and possibly print the progressbar.\u001b[39;00m\n\u001b[1;32m   1198\u001b[0m         \u001b[39m# Note: does not call self.update(1) for speed optimisation.\u001b[39;00m\n",
            "File \u001b[0;32m~/.local/lib/python3.10/site-packages/torch/utils/data/dataloader.py:628\u001b[0m, in \u001b[0;36m_BaseDataLoaderIter.__next__\u001b[0;34m(self)\u001b[0m\n\u001b[1;32m    625\u001b[0m \u001b[39mif\u001b[39;00m \u001b[39mself\u001b[39m\u001b[39m.\u001b[39m_sampler_iter \u001b[39mis\u001b[39;00m \u001b[39mNone\u001b[39;00m:\n\u001b[1;32m    626\u001b[0m     \u001b[39m# TODO(https://github.com/pytorch/pytorch/issues/76750)\u001b[39;00m\n\u001b[1;32m    627\u001b[0m     \u001b[39mself\u001b[39m\u001b[39m.\u001b[39m_reset()  \u001b[39m# type: ignore[call-arg]\u001b[39;00m\n\u001b[0;32m--> 628\u001b[0m data \u001b[39m=\u001b[39m \u001b[39mself\u001b[39;49m\u001b[39m.\u001b[39;49m_next_data()\n\u001b[1;32m    629\u001b[0m \u001b[39mself\u001b[39m\u001b[39m.\u001b[39m_num_yielded \u001b[39m+\u001b[39m\u001b[39m=\u001b[39m \u001b[39m1\u001b[39m\n\u001b[1;32m    630\u001b[0m \u001b[39mif\u001b[39;00m \u001b[39mself\u001b[39m\u001b[39m.\u001b[39m_dataset_kind \u001b[39m==\u001b[39m _DatasetKind\u001b[39m.\u001b[39mIterable \u001b[39mand\u001b[39;00m \\\n\u001b[1;32m    631\u001b[0m         \u001b[39mself\u001b[39m\u001b[39m.\u001b[39m_IterableDataset_len_called \u001b[39mis\u001b[39;00m \u001b[39mnot\u001b[39;00m \u001b[39mNone\u001b[39;00m \u001b[39mand\u001b[39;00m \\\n\u001b[1;32m    632\u001b[0m         \u001b[39mself\u001b[39m\u001b[39m.\u001b[39m_num_yielded \u001b[39m>\u001b[39m \u001b[39mself\u001b[39m\u001b[39m.\u001b[39m_IterableDataset_len_called:\n",
            "File \u001b[0;32m~/.local/lib/python3.10/site-packages/torch/utils/data/dataloader.py:671\u001b[0m, in \u001b[0;36m_SingleProcessDataLoaderIter._next_data\u001b[0;34m(self)\u001b[0m\n\u001b[1;32m    669\u001b[0m \u001b[39mdef\u001b[39;00m \u001b[39m_next_data\u001b[39m(\u001b[39mself\u001b[39m):\n\u001b[1;32m    670\u001b[0m     index \u001b[39m=\u001b[39m \u001b[39mself\u001b[39m\u001b[39m.\u001b[39m_next_index()  \u001b[39m# may raise StopIteration\u001b[39;00m\n\u001b[0;32m--> 671\u001b[0m     data \u001b[39m=\u001b[39m \u001b[39mself\u001b[39;49m\u001b[39m.\u001b[39;49m_dataset_fetcher\u001b[39m.\u001b[39;49mfetch(index)  \u001b[39m# may raise StopIteration\u001b[39;00m\n\u001b[1;32m    672\u001b[0m     \u001b[39mif\u001b[39;00m \u001b[39mself\u001b[39m\u001b[39m.\u001b[39m_pin_memory:\n\u001b[1;32m    673\u001b[0m         data \u001b[39m=\u001b[39m _utils\u001b[39m.\u001b[39mpin_memory\u001b[39m.\u001b[39mpin_memory(data, \u001b[39mself\u001b[39m\u001b[39m.\u001b[39m_pin_memory_device)\n",
            "File \u001b[0;32m~/.local/lib/python3.10/site-packages/torch/utils/data/_utils/fetch.py:58\u001b[0m, in \u001b[0;36m_MapDatasetFetcher.fetch\u001b[0;34m(self, possibly_batched_index)\u001b[0m\n\u001b[1;32m     56\u001b[0m         data \u001b[39m=\u001b[39m \u001b[39mself\u001b[39m\u001b[39m.\u001b[39mdataset\u001b[39m.\u001b[39m__getitems__(possibly_batched_index)\n\u001b[1;32m     57\u001b[0m     \u001b[39melse\u001b[39;00m:\n\u001b[0;32m---> 58\u001b[0m         data \u001b[39m=\u001b[39m [\u001b[39mself\u001b[39m\u001b[39m.\u001b[39mdataset[idx] \u001b[39mfor\u001b[39;00m idx \u001b[39min\u001b[39;00m possibly_batched_index]\n\u001b[1;32m     59\u001b[0m \u001b[39melse\u001b[39;00m:\n\u001b[1;32m     60\u001b[0m     data \u001b[39m=\u001b[39m \u001b[39mself\u001b[39m\u001b[39m.\u001b[39mdataset[possibly_batched_index]\n",
            "File \u001b[0;32m~/.local/lib/python3.10/site-packages/torch/utils/data/_utils/fetch.py:58\u001b[0m, in \u001b[0;36m<listcomp>\u001b[0;34m(.0)\u001b[0m\n\u001b[1;32m     56\u001b[0m         data \u001b[39m=\u001b[39m \u001b[39mself\u001b[39m\u001b[39m.\u001b[39mdataset\u001b[39m.\u001b[39m__getitems__(possibly_batched_index)\n\u001b[1;32m     57\u001b[0m     \u001b[39melse\u001b[39;00m:\n\u001b[0;32m---> 58\u001b[0m         data \u001b[39m=\u001b[39m [\u001b[39mself\u001b[39m\u001b[39m.\u001b[39mdataset[idx] \u001b[39mfor\u001b[39;00m idx \u001b[39min\u001b[39;00m possibly_batched_index]\n\u001b[1;32m     59\u001b[0m \u001b[39melse\u001b[39;00m:\n\u001b[1;32m     60\u001b[0m     data \u001b[39m=\u001b[39m \u001b[39mself\u001b[39m\u001b[39m.\u001b[39mdataset[possibly_batched_index]\n",
            "\u001b[0;31mKeyboardInterrupt\u001b[0m: "
          ]
        }
      ],
      "source": [
        "epochs = 10\n",
        "ranking_nw.train(train, lr, reg, epochs, test_ds)"
      ]
    },
    {
      "cell_type": "markdown",
      "metadata": {
        "id": "0VkrV0xgvMBe"
      },
      "source": [
        "## SQRT Weighted Ranking"
      ]
    },
    {
      "cell_type": "code",
      "execution_count": null,
      "metadata": {
        "id": "X8TYSw75vMBe",
        "outputId": "174c9165-ba14-435f-b032-a27149c08b56"
      },
      "outputs": [
        {
          "name": "stdout",
          "output_type": "stream",
          "text": [
            "RankingNetworkSQRT(\n",
            "  (item_embed): Embedding(3883, 16)\n",
            "  (cat_embed): Embedding(18, 8)\n",
            "  (fc1): Linear(in_features=43, out_features=64, bias=True)\n",
            "  (fc2): Linear(in_features=64, out_features=32, bias=True)\n",
            "  (fc3): Linear(in_features=32, out_features=16, bias=True)\n",
            "  (out): Linear(in_features=16, out_features=1, bias=True)\n",
            ")\n"
          ]
        }
      ],
      "source": [
        "batch_size = 1024\n",
        "lr = 1e-2\n",
        "reg = 1e-3\n",
        "item_embed_dim = 16\n",
        "cat_embed_dim = 8\n",
        "relu_layers_dims = [64, 32, 16]\n",
        "\n",
        "trainloader = DataLoader(train, batch_size = batch_size, shuffle = False)\n",
        "\n",
        "num_items = len(movie_data_df)\n",
        "num_categories = len(genres) \n",
        "cont_features = ['release_year_norm', 'release_year_sqrt', 'release_year_sq']\n",
        "num_cont_features = len(cont_features)\n",
        "\n",
        "class RankingNetworkSQRT(nn.Module):\n",
        "    def __init__(self, item_embed_dim, cat_embed_dim):\n",
        "        super(RankingNetworkSQRT, self).__init__()\n",
        "        self.item_embed = Embedding(num_items, item_embed_dim)\n",
        "        self.cat_embed = Embedding(num_categories, cat_embed_dim)\n",
        "        fc1_in = 2 * item_embed_dim + cat_embed_dim + num_cont_features\n",
        "        self.fc1 = Linear(in_features= fc1_in, out_features= relu_layers_dims[0])\n",
        "        self.fc2 = Linear(in_features = relu_layers_dims[0], out_features = relu_layers_dims[1])\n",
        "        self.fc3 = Linear(in_features = relu_layers_dims[1], out_features= relu_layers_dims[2])\n",
        "        self.out = Linear(in_features = relu_layers_dims[2], out_features = 1)\n",
        "\n",
        "    def forward(self, item, watch_history, genres, release_year_norm, release_year_sqrt, release_year_sq, rating):\n",
        "        # get embeddings\n",
        "        item_vector = self.item_embed(item.type(torch.int64))\n",
        "        watch_history_vec = torch.mean(self.item_embed(watch_history), axis = 1)\n",
        "        cat_vec = torch.mean(self.cat_embed(genres), axis = 1)\n",
        "\n",
        "        # vector of continuos features\n",
        "        cont_features_vector = torch.transpose(torch.stack([release_year_norm, release_year_sqrt, release_year_sq]), 1, 0)\n",
        "\n",
        "        # stack all vectors to one\n",
        "        x = torch.concat([item_vector, watch_history_vec, cat_vec, cont_features_vector], axis = 1).type(torch.float32)\n",
        "\n",
        "        # propagate through network\n",
        "        x = F.relu(self.fc1(x))\n",
        "        x = F.relu(self.fc2(x))\n",
        "        x = F.relu(self.fc3(x))\n",
        "        x = self.out(x)\n",
        "        # weighted logistic regression\n",
        "        x = torch.squeeze(x) * torch.sqrt(rating)\n",
        "\n",
        "        #return F.sigmoid(torch.mul(rating, torch.squeeze(self.out(x))))\n",
        "        return torch.sigmoid(x)\n",
        "    \n",
        "    def train(self, train_data, lr, reg, epochs):\n",
        "        self.train_time = time()\n",
        "        self.loss_history = []\n",
        "        criterion = nn.BCELoss(reduction='sum')\n",
        "        optimizer = torch.optim.Adam(self.parameters(), lr = lr, weight_decay = reg)\n",
        "        loss_norm_factor = len(train_data.label)\n",
        "        for epoch in range(epochs):\n",
        "            epoch_loss = 0\n",
        "            for i, batch in enumerate(tqdm(trainloader)):\n",
        "                item, rating, history, genre_cat, release_year_norm, release_year_sqrt, release_year_sq, label = batch\n",
        "                item = item.to(device)\n",
        "                rating = rating.to(device)\n",
        "                history = torch.transpose(torch.stack(history), 1, 0).to(device)\n",
        "                genre_cat = torch.transpose(torch.stack(genre_cat), 1, 0).to(device)\n",
        "                release_year_norm = release_year_norm.to(device)\n",
        "                release_year_sq = release_year_sq.to(device)\n",
        "                release_year_sqrt = release_year_sqrt.to(device)\n",
        "                label = label.to(dtype = torch.float32, device = device)\n",
        "                #reset grad\n",
        "                optimizer.zero_grad()\n",
        "\n",
        "                #forward and backward pass\n",
        "                pred = self.forward(item, \n",
        "                                    history, \n",
        "                                    genre_cat, \n",
        "                                    release_year_norm, \n",
        "                                    release_year_sqrt,\n",
        "                                    release_year_sq,\n",
        "                                    rating)\n",
        "                \n",
        "               \n",
        "                loss = criterion(torch.squeeze(pred), label)\n",
        "                epoch_loss += loss / loss_norm_factor\n",
        "                \n",
        "                loss.backward()\n",
        "                optimizer.step()\n",
        "                \n",
        "            self.loss_history.append(epoch_loss)\n",
        "            print(f\"epoch {epoch} loss: {epoch_loss}\")\n",
        "        self.train_time = time() - self.train_time\n",
        "\n",
        "ranking_nw_sqrt = RankingNetworkSQRT(item_embed_dim, cat_embed_dim)\n",
        "ranking_nw_sqrt = ranking_nw_sqrt.to(device)\n",
        "print(ranking_nw_sqrt)\n",
        "\n",
        "\n"
      ]
    },
    {
      "cell_type": "code",
      "execution_count": null,
      "metadata": {
        "id": "IxDD_F84vMBe",
        "outputId": "c885355a-abc0-44da-85bf-b587ae790361"
      },
      "outputs": [
        {
          "name": "stderr",
          "output_type": "stream",
          "text": [
            "100%|██████████| 4855/4855 [00:55<00:00, 87.46it/s] \n"
          ]
        },
        {
          "name": "stdout",
          "output_type": "stream",
          "text": [
            "epoch 0 loss: 0.35627156496047974\n"
          ]
        },
        {
          "name": "stderr",
          "output_type": "stream",
          "text": [
            "100%|██████████| 4855/4855 [00:59<00:00, 82.25it/s]\n"
          ]
        },
        {
          "name": "stdout",
          "output_type": "stream",
          "text": [
            "epoch 1 loss: 0.2882542908191681\n"
          ]
        },
        {
          "name": "stderr",
          "output_type": "stream",
          "text": [
            "100%|██████████| 4855/4855 [00:54<00:00, 89.49it/s] \n"
          ]
        },
        {
          "name": "stdout",
          "output_type": "stream",
          "text": [
            "epoch 2 loss: 0.27228108048439026\n"
          ]
        },
        {
          "name": "stderr",
          "output_type": "stream",
          "text": [
            "100%|██████████| 4855/4855 [00:51<00:00, 94.88it/s] \n"
          ]
        },
        {
          "name": "stdout",
          "output_type": "stream",
          "text": [
            "epoch 3 loss: 0.2618778645992279\n"
          ]
        },
        {
          "name": "stderr",
          "output_type": "stream",
          "text": [
            "100%|██████████| 4855/4855 [00:56<00:00, 86.41it/s] \n"
          ]
        },
        {
          "name": "stdout",
          "output_type": "stream",
          "text": [
            "epoch 4 loss: 0.2556156814098358\n"
          ]
        },
        {
          "name": "stderr",
          "output_type": "stream",
          "text": [
            "100%|██████████| 4855/4855 [00:57<00:00, 84.82it/s]\n"
          ]
        },
        {
          "name": "stdout",
          "output_type": "stream",
          "text": [
            "epoch 5 loss: 0.252231240272522\n"
          ]
        },
        {
          "name": "stderr",
          "output_type": "stream",
          "text": [
            "100%|██████████| 4855/4855 [00:52<00:00, 92.32it/s] \n"
          ]
        },
        {
          "name": "stdout",
          "output_type": "stream",
          "text": [
            "epoch 6 loss: 0.25005221366882324\n"
          ]
        },
        {
          "name": "stderr",
          "output_type": "stream",
          "text": [
            "100%|██████████| 4855/4855 [00:44<00:00, 108.20it/s]\n"
          ]
        },
        {
          "name": "stdout",
          "output_type": "stream",
          "text": [
            "epoch 7 loss: 0.24840180575847626\n"
          ]
        },
        {
          "name": "stderr",
          "output_type": "stream",
          "text": [
            "100%|██████████| 4855/4855 [01:01<00:00, 78.31it/s] \n"
          ]
        },
        {
          "name": "stdout",
          "output_type": "stream",
          "text": [
            "epoch 8 loss: 0.24712511897087097\n"
          ]
        },
        {
          "name": "stderr",
          "output_type": "stream",
          "text": [
            "100%|██████████| 4855/4855 [01:01<00:00, 78.88it/s] "
          ]
        },
        {
          "name": "stdout",
          "output_type": "stream",
          "text": [
            "epoch 9 loss: 0.24609224498271942\n"
          ]
        },
        {
          "name": "stderr",
          "output_type": "stream",
          "text": [
            "\n"
          ]
        }
      ],
      "source": [
        "ranking_nw_sqrt.train(train, lr, reg, epochs = 10)"
      ]
    },
    {
      "cell_type": "markdown",
      "metadata": {
        "id": "t0w88NbsvMBe"
      },
      "source": [
        "# Improved Model - adding 1x1 Conv1d to the watch vector"
      ]
    },
    {
      "cell_type": "code",
      "execution_count": null,
      "metadata": {
        "id": "8kheIlJ0vMBf",
        "outputId": "c71bb615-512c-43ec-8a85-c475ac2cb125"
      },
      "outputs": [
        {
          "name": "stdout",
          "output_type": "stream",
          "text": [
            "RankingNetworkWithConv(\n",
            "  (item_embed): Embedding(3883, 16)\n",
            "  (cat_embed): Embedding(18, 8)\n",
            "  (conv): Conv1d(10, 1, kernel_size=(1,), stride=(1,))\n",
            "  (fc1): Linear(in_features=43, out_features=64, bias=True)\n",
            "  (fc2): Linear(in_features=64, out_features=32, bias=True)\n",
            "  (fc3): Linear(in_features=32, out_features=16, bias=True)\n",
            "  (out): Linear(in_features=16, out_features=1, bias=True)\n",
            ")\n"
          ]
        }
      ],
      "source": [
        "batch_size = 1024\n",
        "lr = 1e-2\n",
        "reg = 1e-3\n",
        "item_embed_dim = 16\n",
        "cat_embed_dim = 8\n",
        "relu_layers_dims = [64, 32, 16]\n",
        "window = 10\n",
        "\n",
        "trainloader = DataLoader(train, batch_size = batch_size, shuffle = False)\n",
        "\n",
        "num_items = len(movie_data_df)\n",
        "num_categories = len(genres) \n",
        "cont_features = ['release_year_norm', 'release_year_sqrt', 'release_year_sq']\n",
        "num_cont_features = len(cont_features)\n",
        "\n",
        "\n",
        "class RankingNetworkWithConv(nn.Module):\n",
        "    def __init__(self, item_embed_dim, cat_embed_dim, history_window_size):\n",
        "        super(RankingNetworkWithConv, self).__init__()\n",
        "        self.item_embed = Embedding(num_items, item_embed_dim)\n",
        "        self.cat_embed = Embedding(num_categories, cat_embed_dim)\n",
        "        self.conv = nn.Conv1d(in_channels = history_window_size, out_channels = 1, kernel_size = 1)\n",
        "        fc1_in = 2 * item_embed_dim + cat_embed_dim + num_cont_features\n",
        "        self.fc1 = Linear(in_features= fc1_in, out_features= relu_layers_dims[0])\n",
        "        self.fc2 = Linear(in_features = relu_layers_dims[0], out_features = relu_layers_dims[1])\n",
        "        self.fc3 = Linear(in_features = relu_layers_dims[1], out_features= relu_layers_dims[2])\n",
        "        self.out = Linear(in_features = relu_layers_dims[2], out_features = 1)\n",
        "    \n",
        "    def evaluate_test(self, test_ds, criterion):\n",
        "        item_test = torch.tensor(test_ds.item).to(device)\n",
        "        rating_test = torch.tensor(test_ds.rating).to(device)\n",
        "        history_test = torch.stack([torch.tensor(x) for x in test_ds.history]).to(device)\n",
        "        genre_cat_test = torch.stack([torch.tensor(x) for x in test_ds.genre_cat]).to(device)\n",
        "        release_year_norm_test = torch.tensor(test_ds.release_year_norm).to(device)\n",
        "        release_year_sq_test = torch.tensor(test_ds.release_year_sq).to(device)\n",
        "        release_year_sqrt_test = torch.tensor(test_ds.release_year_sqrt).to(device)\n",
        "        label_test = torch.tensor(test_ds.label).to(dtype = torch.float32, device = device)\n",
        "        with torch.no_grad():\n",
        "            pred_test = self.forward(item_test, \n",
        "                            history_test, \n",
        "                            genre_cat_test, \n",
        "                            release_year_norm_test, \n",
        "                            release_year_sqrt_test,\n",
        "                            release_year_sq_test,\n",
        "                            rating_test)\n",
        "        test_loss = criterion(torch.squeeze(pred_test), label_test)/len(test_ds.label)\n",
        "        print(test_loss)\n",
        "        return test_loss\n",
        "    \n",
        "    def forward(self, item, watch_history, genres, release_year_norm, release_year_sqrt, release_year_sq, rating):\n",
        "        # get embeddings\n",
        "        item_vector = self.item_embed(item.type(torch.int64))\n",
        "        watch_history_vec = torch.squeeze(self.conv(self.item_embed(watch_history)))\n",
        "        cat_vec = torch.mean(self.cat_embed(genres), axis = 1)\n",
        "\n",
        "        # vector of continuos features\n",
        "        cont_features_vector = torch.transpose(torch.stack([release_year_norm, release_year_sqrt, release_year_sq]), 1, 0)\n",
        "\n",
        "        # stack all vectors to one\n",
        "        x = torch.concat([item_vector, watch_history_vec, cat_vec, cont_features_vector], axis = 1).type(torch.float32)\n",
        "\n",
        "        # propagate through network\n",
        "        x = F.relu(self.fc1(x))\n",
        "        x = F.relu(self.fc2(x))\n",
        "        x = F.relu(self.fc3(x))\n",
        "        x = self.out(x)\n",
        "\n",
        "        return torch.sigmoid(x)\n",
        "    \n",
        "    def train(self, train_data, lr, reg, epochs, test):\n",
        "        self.train_time = time()\n",
        "        self.loss_history = []\n",
        "        self.test_loss_history = []\n",
        "        criterion = nn.BCELoss(reduction='sum')\n",
        "        optimizer = torch.optim.Adam(self.parameters(), lr = lr, weight_decay = reg)\n",
        "        loss_norm_factor = len(train_data.label)\n",
        "        for epoch in range(epochs):\n",
        "            epoch_loss = 0\n",
        "            for i, batch in enumerate(tqdm(trainloader)):\n",
        "                item, rating, history, genre_cat, release_year_norm, release_year_sqrt, release_year_sq, label = batch\n",
        "                item = item.to(device)\n",
        "                rating = rating.to(device)\n",
        "                history = torch.transpose(torch.stack(history), 1, 0).to(device)\n",
        "                genre_cat = torch.transpose(torch.stack(genre_cat), 1, 0).to(device)\n",
        "                release_year_norm = release_year_norm.to(device)\n",
        "                release_year_sq = release_year_sq.to(device)\n",
        "                release_year_sqrt = release_year_sqrt.to(device)\n",
        "                label = label.to(dtype = torch.float32, device = device)\n",
        "                #reset grad\n",
        "                optimizer.zero_grad()\n",
        "\n",
        "                #forward and backward pass\n",
        "                pred = self.forward(item, \n",
        "                                    history, \n",
        "                                    genre_cat, \n",
        "                                    release_year_norm, \n",
        "                                    release_year_sqrt,\n",
        "                                    release_year_sq,\n",
        "                                    rating)\n",
        "                \n",
        "               \n",
        "                loss = criterion(torch.squeeze(pred), label)\n",
        "                epoch_loss += loss / loss_norm_factor\n",
        "                \n",
        "                loss.backward()\n",
        "                optimizer.step()\n",
        "                \n",
        "            self.loss_history.append(epoch_loss)\n",
        "            test_loss = self.evaluate_test(test, criterion)\n",
        "            self.test_loss_history.append(test_loss)\n",
        "            print(f\"epoch {epoch} loss: {epoch_loss} validation: {test_loss}\")\n",
        "\n",
        "        self.train_time = time() - self.train_time\n",
        "\n",
        "ranking_nw_conv = RankingNetworkWithConv(item_embed_dim, cat_embed_dim, window)\n",
        "ranking_nw_conv = ranking_nw_conv.to(device)\n",
        "print(ranking_nw_conv)\n",
        "\n"
      ]
    },
    {
      "cell_type": "code",
      "execution_count": null,
      "metadata": {
        "id": "5fXIhiw5vMBf",
        "outputId": "5b20a78f-0316-4d5f-ad14-c86983d20b63"
      },
      "outputs": [
        {
          "name": "stderr",
          "output_type": "stream",
          "text": [
            "100%|██████████| 4855/4855 [00:54<00:00, 89.25it/s] \n"
          ]
        },
        {
          "name": "stdout",
          "output_type": "stream",
          "text": [
            "tensor(0.1534, device='cuda:0')\n",
            "epoch 0 loss: 0.309982031583786 validation: 0.15336811542510986\n"
          ]
        },
        {
          "name": "stderr",
          "output_type": "stream",
          "text": [
            "100%|██████████| 4855/4855 [00:56<00:00, 85.19it/s] \n"
          ]
        },
        {
          "name": "stdout",
          "output_type": "stream",
          "text": [
            "tensor(0.1394, device='cuda:0')\n",
            "epoch 1 loss: 0.2505602538585663 validation: 0.1393740177154541\n"
          ]
        },
        {
          "name": "stderr",
          "output_type": "stream",
          "text": [
            "100%|██████████| 4855/4855 [01:01<00:00, 78.63it/s] \n"
          ]
        },
        {
          "name": "stdout",
          "output_type": "stream",
          "text": [
            "tensor(0.1319, device='cuda:0')\n",
            "epoch 2 loss: 0.23279796540737152 validation: 0.1318787783384323\n"
          ]
        },
        {
          "name": "stderr",
          "output_type": "stream",
          "text": [
            "100%|██████████| 4855/4855 [00:54<00:00, 89.41it/s]\n"
          ]
        },
        {
          "name": "stdout",
          "output_type": "stream",
          "text": [
            "tensor(0.1368, device='cuda:0')\n",
            "epoch 3 loss: 0.2230665385723114 validation: 0.13682609796524048\n"
          ]
        },
        {
          "name": "stderr",
          "output_type": "stream",
          "text": [
            "100%|██████████| 4855/4855 [00:56<00:00, 86.05it/s]\n"
          ]
        },
        {
          "name": "stdout",
          "output_type": "stream",
          "text": [
            "tensor(0.1265, device='cuda:0')\n",
            "epoch 4 loss: 0.21839945018291473 validation: 0.12654182314872742\n"
          ]
        },
        {
          "name": "stderr",
          "output_type": "stream",
          "text": [
            "100%|██████████| 4855/4855 [00:53<00:00, 91.45it/s] \n"
          ]
        },
        {
          "name": "stdout",
          "output_type": "stream",
          "text": [
            "tensor(0.1294, device='cuda:0')\n",
            "epoch 5 loss: 0.21531569957733154 validation: 0.1293870061635971\n"
          ]
        },
        {
          "name": "stderr",
          "output_type": "stream",
          "text": [
            "100%|██████████| 4855/4855 [00:55<00:00, 87.03it/s] \n"
          ]
        },
        {
          "name": "stdout",
          "output_type": "stream",
          "text": [
            "tensor(0.1207, device='cuda:0')\n",
            "epoch 6 loss: 0.2129671424627304 validation: 0.12069719284772873\n"
          ]
        },
        {
          "name": "stderr",
          "output_type": "stream",
          "text": [
            "100%|██████████| 4855/4855 [01:02<00:00, 77.12it/s]\n"
          ]
        },
        {
          "name": "stdout",
          "output_type": "stream",
          "text": [
            "tensor(0.1196, device='cuda:0')\n",
            "epoch 7 loss: 0.2114969938993454 validation: 0.11963808536529541\n"
          ]
        },
        {
          "name": "stderr",
          "output_type": "stream",
          "text": [
            "100%|██████████| 4855/4855 [00:59<00:00, 81.85it/s]\n"
          ]
        },
        {
          "name": "stdout",
          "output_type": "stream",
          "text": [
            "tensor(0.1248, device='cuda:0')\n",
            "epoch 8 loss: 0.21047009527683258 validation: 0.12484460324048996\n"
          ]
        },
        {
          "name": "stderr",
          "output_type": "stream",
          "text": [
            "100%|██████████| 4855/4855 [00:53<00:00, 90.12it/s] \n"
          ]
        },
        {
          "name": "stdout",
          "output_type": "stream",
          "text": [
            "tensor(0.1339, device='cuda:0')\n",
            "epoch 9 loss: 0.20991666615009308 validation: 0.13391928374767303\n"
          ]
        }
      ],
      "source": [
        "ranking_nw_conv.train(train, lr, reg, epochs = 10, test = test_ds)"
      ]
    },
    {
      "cell_type": "code",
      "execution_count": null,
      "metadata": {
        "id": "9gopTiFnvMBf",
        "outputId": "c304b16a-2fa5-4c75-92f9-84c6a19a2c7f"
      },
      "outputs": [
        {
          "data": {
            "text/plain": [
              "[Parameter containing:\n",
              " tensor([[[-0.1433],\n",
              "          [-0.1205],\n",
              "          [-0.1333],\n",
              "          [-0.1473],\n",
              "          [-0.1768],\n",
              "          [-0.2211],\n",
              "          [-0.2406],\n",
              "          [-0.3043],\n",
              "          [-0.4323],\n",
              "          [-0.6208]]], device='cuda:0', requires_grad=True),\n",
              " Parameter containing:\n",
              " tensor([-0.0645], device='cuda:0', requires_grad=True)]"
            ]
          },
          "execution_count": 246,
          "metadata": {},
          "output_type": "execute_result"
        }
      ],
      "source": [
        "list(ranking_nw_conv.conv.parameters())"
      ]
    },
    {
      "cell_type": "code",
      "execution_count": null,
      "metadata": {
        "id": "C_0pIB2AvMBf",
        "outputId": "ed6b3755-2c2e-4479-da9b-dad543290a7c"
      },
      "outputs": [
        {
          "data": {
            "text/plain": [
              "[tensor(0.2112, device='cuda:0', grad_fn=<AddBackward0>),\n",
              " tensor(0.2109, device='cuda:0', grad_fn=<AddBackward0>),\n",
              " tensor(0.2102, device='cuda:0', grad_fn=<AddBackward0>),\n",
              " tensor(0.2097, device='cuda:0', grad_fn=<AddBackward0>),\n",
              " tensor(0.2093, device='cuda:0', grad_fn=<AddBackward0>),\n",
              " tensor(0.2091, device='cuda:0', grad_fn=<AddBackward0>),\n",
              " tensor(0.2087, device='cuda:0', grad_fn=<AddBackward0>),\n",
              " tensor(0.2084, device='cuda:0', grad_fn=<AddBackward0>),\n",
              " tensor(0.2080, device='cuda:0', grad_fn=<AddBackward0>),\n",
              " tensor(0.2078, device='cuda:0', grad_fn=<AddBackward0>)]"
            ]
          },
          "execution_count": 265,
          "metadata": {},
          "output_type": "execute_result"
        }
      ],
      "source": [
        "ranking_nw_conv.loss_history"
      ]
    },
    {
      "cell_type": "code",
      "execution_count": null,
      "metadata": {
        "id": "J2siNlvAvMBg",
        "outputId": "025a24e5-17e1-40ad-c46e-0fd69c0bd0c5"
      },
      "outputs": [
        {
          "data": {
            "text/plain": [
              "<matplotlib.legend.Legend at 0x7fd1c4272f80>"
            ]
          },
          "execution_count": 268,
          "metadata": {},
          "output_type": "execute_result"
        },
        {
          "data": {
            "image/png": "[encoded data removed]",
            "text/plain": [
              "<Figure size 640x480 with 1 Axes>"
            ]
          },
          "metadata": {},
          "output_type": "display_data"
        }
      ],
      "source": [
        "train_loss = [x.detach().cpu().item() for x in ranking_nw_conv.loss_history]\n",
        "val_loss = [x.detach().cpu().item() for x in ranking_nw_conv.test_loss_history]\n",
        "plt.plot(np.arange(len(train_loss)), train_loss, label = 'train loss')\n",
        "plt.plot(np.arange(len(val_loss)), val_loss, label = 'validation loss')\n",
        "plt.xlabel(\"epoch\")\n",
        "plt.ylabel(\"loss\")\n",
        "plt.title(\"train loss\")\n",
        "plt.legend()"
      ]
    },
    {
      "cell_type": "markdown",
      "metadata": {
        "id": "BDEJroPWvMBg"
      },
      "source": [
        "# Evaluation"
      ]
    },
    {
      "cell_type": "markdown",
      "metadata": {
        "id": "GHPlyWv3vMBg"
      },
      "source": [
        "### Test Data Preprocessing"
      ]
    },
    {
      "cell_type": "code",
      "execution_count": null,
      "metadata": {
        "id": "w50cX1dzvMBg",
        "outputId": "7e511a22-e1db-4fb7-807e-e722a89a5775"
      },
      "outputs": [
        {
          "data": {
            "text/html": [
              "<div>\n",
              "<style scoped>\n",
              "    .dataframe tbody tr th:only-of-type {\n",
              "        vertical-align: middle;\n",
              "    }\n",
              "\n",
              "    .dataframe tbody tr th {\n",
              "        vertical-align: top;\n",
              "    }\n",
              "\n",
              "    .dataframe thead th {\n",
              "        text-align: right;\n",
              "    }\n",
              "</style>\n",
              "<table border=\"1\" class=\"dataframe\">\n",
              "  <thead>\n",
              "    <tr style=\"text-align: right;\">\n",
              "      <th></th>\n",
              "      <th>user</th>\n",
              "      <th>item</th>\n",
              "      <th>label</th>\n",
              "      <th>history</th>\n",
              "      <th>genre_cat</th>\n",
              "      <th>release_year_norm</th>\n",
              "      <th>release_year_sqrt</th>\n",
              "      <th>release_year_sq</th>\n",
              "      <th>rating</th>\n",
              "    </tr>\n",
              "  </thead>\n",
              "  <tbody>\n",
              "    <tr>\n",
              "      <th>304779</th>\n",
              "      <td>0</td>\n",
              "      <td>3352</td>\n",
              "      <td>0</td>\n",
              "      <td>[28, 23, 29, 33, 40, 10, 16, 4, 35, 30]</td>\n",
              "      <td>[7, 0, 0, 0, 0, 0]</td>\n",
              "      <td>0.975309</td>\n",
              "      <td>0.987577</td>\n",
              "      <td>0.951227</td>\n",
              "      <td>1</td>\n",
              "    </tr>\n",
              "    <tr>\n",
              "      <th>305271</th>\n",
              "      <td>0</td>\n",
              "      <td>1721</td>\n",
              "      <td>0</td>\n",
              "      <td>[28, 23, 29, 33, 40, 10, 16, 4, 35, 30]</td>\n",
              "      <td>[7, 13, 0, 0, 0, 0]</td>\n",
              "      <td>0.962963</td>\n",
              "      <td>0.981307</td>\n",
              "      <td>0.927298</td>\n",
              "      <td>1</td>\n",
              "    </tr>\n",
              "    <tr>\n",
              "      <th>305436</th>\n",
              "      <td>0</td>\n",
              "      <td>3512</td>\n",
              "      <td>0</td>\n",
              "      <td>[28, 23, 29, 33, 40, 10, 16, 4, 35, 30]</td>\n",
              "      <td>[7, 13, 0, 0, 0, 0]</td>\n",
              "      <td>1.000000</td>\n",
              "      <td>1.000000</td>\n",
              "      <td>1.000000</td>\n",
              "      <td>1</td>\n",
              "    </tr>\n",
              "    <tr>\n",
              "      <th>305619</th>\n",
              "      <td>0</td>\n",
              "      <td>3656</td>\n",
              "      <td>0</td>\n",
              "      <td>[28, 23, 29, 33, 40, 10, 16, 4, 35, 30]</td>\n",
              "      <td>[5, 0, 0, 0, 0, 0]</td>\n",
              "      <td>0.345679</td>\n",
              "      <td>0.587945</td>\n",
              "      <td>0.119494</td>\n",
              "      <td>1</td>\n",
              "    </tr>\n",
              "    <tr>\n",
              "      <th>305794</th>\n",
              "      <td>0</td>\n",
              "      <td>998</td>\n",
              "      <td>0</td>\n",
              "      <td>[28, 23, 29, 33, 40, 10, 16, 4, 35, 30]</td>\n",
              "      <td>[0, 5, 0, 0, 0, 0]</td>\n",
              "      <td>0.950617</td>\n",
              "      <td>0.974996</td>\n",
              "      <td>0.903673</td>\n",
              "      <td>1</td>\n",
              "    </tr>\n",
              "    <tr>\n",
              "      <th>...</th>\n",
              "      <td>...</td>\n",
              "      <td>...</td>\n",
              "      <td>...</td>\n",
              "      <td>...</td>\n",
              "      <td>...</td>\n",
              "      <td>...</td>\n",
              "      <td>...</td>\n",
              "      <td>...</td>\n",
              "      <td>...</td>\n",
              "    </tr>\n",
              "    <tr>\n",
              "      <th>194440</th>\n",
              "      <td>6039</td>\n",
              "      <td>1826</td>\n",
              "      <td>0</td>\n",
              "      <td>[1535, 693, 289, 509, 151, 203, 1033, 1272, 16...</td>\n",
              "      <td>[1, 3, 0, 0, 0, 0]</td>\n",
              "      <td>0.975309</td>\n",
              "      <td>0.987577</td>\n",
              "      <td>0.951227</td>\n",
              "      <td>1</td>\n",
              "    </tr>\n",
              "    <tr>\n",
              "      <th>476027</th>\n",
              "      <td>6039</td>\n",
              "      <td>3019</td>\n",
              "      <td>0</td>\n",
              "      <td>[1535, 693, 289, 509, 151, 203, 1033, 1272, 16...</td>\n",
              "      <td>[5, 7, 0, 0, 0, 0]</td>\n",
              "      <td>0.864198</td>\n",
              "      <td>0.929622</td>\n",
              "      <td>0.746837</td>\n",
              "      <td>1</td>\n",
              "    </tr>\n",
              "    <tr>\n",
              "      <th>35712</th>\n",
              "      <td>6039</td>\n",
              "      <td>2199</td>\n",
              "      <td>0</td>\n",
              "      <td>[1535, 693, 289, 509, 151, 203, 1033, 1272, 16...</td>\n",
              "      <td>[5, 7, 0, 0, 0, 0]</td>\n",
              "      <td>0.975309</td>\n",
              "      <td>0.987577</td>\n",
              "      <td>0.951227</td>\n",
              "      <td>1</td>\n",
              "    </tr>\n",
              "    <tr>\n",
              "      <th>253769</th>\n",
              "      <td>6039</td>\n",
              "      <td>1006</td>\n",
              "      <td>0</td>\n",
              "      <td>[1535, 693, 289, 509, 151, 203, 1033, 1272, 16...</td>\n",
              "      <td>[7, 0, 0, 0, 0, 0]</td>\n",
              "      <td>0.950617</td>\n",
              "      <td>0.974996</td>\n",
              "      <td>0.903673</td>\n",
              "      <td>1</td>\n",
              "    </tr>\n",
              "    <tr>\n",
              "      <th>56994</th>\n",
              "      <td>6039</td>\n",
              "      <td>195</td>\n",
              "      <td>0</td>\n",
              "      <td>[1535, 693, 289, 509, 151, 203, 1033, 1272, 16...</td>\n",
              "      <td>[4, 7, 13, 0, 0, 0]</td>\n",
              "      <td>0.938272</td>\n",
              "      <td>0.968644</td>\n",
              "      <td>0.880354</td>\n",
              "      <td>1</td>\n",
              "    </tr>\n",
              "  </tbody>\n",
              "</table>\n",
              "<p>592894 rows × 9 columns</p>\n",
              "</div>"
            ],
            "text/plain": [
              "        user  item  label                                            history  \\\n",
              "304779     0  3352      0            [28, 23, 29, 33, 40, 10, 16, 4, 35, 30]   \n",
              "305271     0  1721      0            [28, 23, 29, 33, 40, 10, 16, 4, 35, 30]   \n",
              "305436     0  3512      0            [28, 23, 29, 33, 40, 10, 16, 4, 35, 30]   \n",
              "305619     0  3656      0            [28, 23, 29, 33, 40, 10, 16, 4, 35, 30]   \n",
              "305794     0   998      0            [28, 23, 29, 33, 40, 10, 16, 4, 35, 30]   \n",
              "...      ...   ...    ...                                                ...   \n",
              "194440  6039  1826      0  [1535, 693, 289, 509, 151, 203, 1033, 1272, 16...   \n",
              "476027  6039  3019      0  [1535, 693, 289, 509, 151, 203, 1033, 1272, 16...   \n",
              "35712   6039  2199      0  [1535, 693, 289, 509, 151, 203, 1033, 1272, 16...   \n",
              "253769  6039  1006      0  [1535, 693, 289, 509, 151, 203, 1033, 1272, 16...   \n",
              "56994   6039   195      0  [1535, 693, 289, 509, 151, 203, 1033, 1272, 16...   \n",
              "\n",
              "                  genre_cat  release_year_norm  release_year_sqrt  \\\n",
              "304779   [7, 0, 0, 0, 0, 0]           0.975309           0.987577   \n",
              "305271  [7, 13, 0, 0, 0, 0]           0.962963           0.981307   \n",
              "305436  [7, 13, 0, 0, 0, 0]           1.000000           1.000000   \n",
              "305619   [5, 0, 0, 0, 0, 0]           0.345679           0.587945   \n",
              "305794   [0, 5, 0, 0, 0, 0]           0.950617           0.974996   \n",
              "...                     ...                ...                ...   \n",
              "194440   [1, 3, 0, 0, 0, 0]           0.975309           0.987577   \n",
              "476027   [5, 7, 0, 0, 0, 0]           0.864198           0.929622   \n",
              "35712    [5, 7, 0, 0, 0, 0]           0.975309           0.987577   \n",
              "253769   [7, 0, 0, 0, 0, 0]           0.950617           0.974996   \n",
              "56994   [4, 7, 13, 0, 0, 0]           0.938272           0.968644   \n",
              "\n",
              "        release_year_sq  rating  \n",
              "304779         0.951227       1  \n",
              "305271         0.927298       1  \n",
              "305436         1.000000       1  \n",
              "305619         0.119494       1  \n",
              "305794         0.903673       1  \n",
              "...                 ...     ...  \n",
              "194440         0.951227       1  \n",
              "476027         0.746837       1  \n",
              "35712          0.951227       1  \n",
              "253769         0.903673       1  \n",
              "56994          0.880354       1  \n",
              "\n",
              "[592894 rows x 9 columns]"
            ]
          },
          "execution_count": 203,
          "metadata": {},
          "output_type": "execute_result"
        }
      ],
      "source": [
        "test = pd.read_csv(TEST, sep = '\\t').set_axis(labels = ['user', 'item', 'rating', 'timestamp'], axis = 1)\n",
        "test['label'] = 1\n",
        "negatives = []\n",
        "with open(NEG, \"r\") as f:\n",
        "    for row in f.readlines():\n",
        "        row = row.split(\"\\t\")\n",
        "        user, real_item = eval(row[0])\n",
        "        row = row[1:]\n",
        "        [negatives.append([user, int(item), 0]) for item in row]\n",
        "neg_df = pd.DataFrame(negatives, columns = ['user', 'item','label'])\n",
        "test_df = pd.concat([test[['user', 'item','label']], neg_df])\n",
        "temp_df = df.merge(df.groupby('user')['timestamp'].max().rename('max_timestamp'), left_on = 'user', right_index= True)\n",
        "user_history = temp_df.loc[temp_df.timestamp == temp_df.max_timestamp].drop_duplicates(subset = ['user', 'timestamp'], keep = 'last')[['user','history']]\n",
        "test_df = test_df.merge(user_history, on = 'user', how = 'left')\n",
        "movie_mask = ['item', 'genre_cat', 'release_year_norm', 'release_year_sqrt', 'release_year_sq']\n",
        "test_df = test_df.merge(movie_data_df[movie_mask], on = 'item')\n",
        "test_df.genre_cat = test_df.genre_cat.apply(lambda x: x if isinstance(x,list) else [])\n",
        "max_genres = movie_data_df.genre_cat.apply(len).max()\n",
        "test_df.genre_cat = test_df.genre_cat.apply(lambda arr:  arr + (max_genres - len(arr)) * [0])\n",
        "test_df['rating'] = 1\n",
        "test_df.sort_values('user')\n"
      ]
    },
    {
      "cell_type": "code",
      "execution_count": null,
      "metadata": {
        "id": "Wvr0VRervMBg",
        "outputId": "393aee97-0d93-4dbc-f33e-f7671672c889"
      },
      "outputs": [
        {
          "data": {
            "text/html": [
              "<div>\n",
              "<style scoped>\n",
              "    .dataframe tbody tr th:only-of-type {\n",
              "        vertical-align: middle;\n",
              "    }\n",
              "\n",
              "    .dataframe tbody tr th {\n",
              "        vertical-align: top;\n",
              "    }\n",
              "\n",
              "    .dataframe thead th {\n",
              "        text-align: right;\n",
              "    }\n",
              "</style>\n",
              "<table border=\"1\" class=\"dataframe\">\n",
              "  <thead>\n",
              "    <tr style=\"text-align: right;\">\n",
              "      <th></th>\n",
              "      <th>user</th>\n",
              "      <th>item</th>\n",
              "      <th>label</th>\n",
              "      <th>history</th>\n",
              "      <th>genre_cat</th>\n",
              "      <th>release_year_norm</th>\n",
              "      <th>release_year_sqrt</th>\n",
              "      <th>release_year_sq</th>\n",
              "      <th>rating</th>\n",
              "      <th>actual_rating</th>\n",
              "    </tr>\n",
              "  </thead>\n",
              "  <tbody>\n",
              "    <tr>\n",
              "      <th>0</th>\n",
              "      <td>1</td>\n",
              "      <td>133</td>\n",
              "      <td>1</td>\n",
              "      <td>[98, 60, 91, 126, 163, 73, 79, 130, 86, 66]</td>\n",
              "      <td>[4, 7, 0, 0, 0, 0]</td>\n",
              "      <td>0.938272</td>\n",
              "      <td>0.968644</td>\n",
              "      <td>0.880354</td>\n",
              "      <td>1</td>\n",
              "      <td>3.0</td>\n",
              "    </tr>\n",
              "    <tr>\n",
              "      <th>1</th>\n",
              "      <td>1613</td>\n",
              "      <td>133</td>\n",
              "      <td>1</td>\n",
              "      <td>[605, 455, 86, 58, 72, 1265, 656, 954, 1103, 1...</td>\n",
              "      <td>[4, 7, 0, 0, 0, 0]</td>\n",
              "      <td>0.938272</td>\n",
              "      <td>0.968644</td>\n",
              "      <td>0.880354</td>\n",
              "      <td>1</td>\n",
              "      <td>2.0</td>\n",
              "    </tr>\n",
              "    <tr>\n",
              "      <th>2</th>\n",
              "      <td>2345</td>\n",
              "      <td>133</td>\n",
              "      <td>1</td>\n",
              "      <td>[1868, 137, 58, 86, 163, 1058, 1482, 1665, 125...</td>\n",
              "      <td>[4, 7, 0, 0, 0, 0]</td>\n",
              "      <td>0.938272</td>\n",
              "      <td>0.968644</td>\n",
              "      <td>0.880354</td>\n",
              "      <td>1</td>\n",
              "      <td>4.0</td>\n",
              "    </tr>\n",
              "    <tr>\n",
              "      <th>3</th>\n",
              "      <td>3819</td>\n",
              "      <td>133</td>\n",
              "      <td>1</td>\n",
              "      <td>[586, 322, 989, 1014, 1005, 60, 663, 591, 775,...</td>\n",
              "      <td>[4, 7, 0, 0, 0, 0]</td>\n",
              "      <td>0.938272</td>\n",
              "      <td>0.968644</td>\n",
              "      <td>0.880354</td>\n",
              "      <td>1</td>\n",
              "      <td>4.0</td>\n",
              "    </tr>\n",
              "    <tr>\n",
              "      <th>4</th>\n",
              "      <td>4132</td>\n",
              "      <td>133</td>\n",
              "      <td>1</td>\n",
              "      <td>[189, 195, 58, 630, 202, 782, 1685, 185, 653, ...</td>\n",
              "      <td>[4, 7, 0, 0, 0, 0]</td>\n",
              "      <td>0.938272</td>\n",
              "      <td>0.968644</td>\n",
              "      <td>0.880354</td>\n",
              "      <td>1</td>\n",
              "      <td>4.0</td>\n",
              "    </tr>\n",
              "    <tr>\n",
              "      <th>...</th>\n",
              "      <td>...</td>\n",
              "      <td>...</td>\n",
              "      <td>...</td>\n",
              "      <td>...</td>\n",
              "      <td>...</td>\n",
              "      <td>...</td>\n",
              "      <td>...</td>\n",
              "      <td>...</td>\n",
              "      <td>...</td>\n",
              "      <td>...</td>\n",
              "    </tr>\n",
              "    <tr>\n",
              "      <th>592889</th>\n",
              "      <td>5803</td>\n",
              "      <td>3113</td>\n",
              "      <td>0</td>\n",
              "      <td>[44, 438, 2306, 1106, 1831, 2091, 425, 171, 27...</td>\n",
              "      <td>[0, 15, 0, 0, 0, 0]</td>\n",
              "      <td>0.987654</td>\n",
              "      <td>0.993808</td>\n",
              "      <td>0.975461</td>\n",
              "      <td>1</td>\n",
              "      <td>NaN</td>\n",
              "    </tr>\n",
              "    <tr>\n",
              "      <th>592890</th>\n",
              "      <td>5879</td>\n",
              "      <td>3113</td>\n",
              "      <td>0</td>\n",
              "      <td>[1081, 1726, 1063, 1523, 2091, 1650, 2733, 999...</td>\n",
              "      <td>[0, 15, 0, 0, 0, 0]</td>\n",
              "      <td>0.987654</td>\n",
              "      <td>0.993808</td>\n",
              "      <td>0.975461</td>\n",
              "      <td>1</td>\n",
              "      <td>NaN</td>\n",
              "    </tr>\n",
              "    <tr>\n",
              "      <th>592891</th>\n",
              "      <td>5998</td>\n",
              "      <td>3113</td>\n",
              "      <td>0</td>\n",
              "      <td>[338, 743, 995, 1446, 121, 945, 1450, 985, 311...</td>\n",
              "      <td>[0, 15, 0, 0, 0, 0]</td>\n",
              "      <td>0.987654</td>\n",
              "      <td>0.993808</td>\n",
              "      <td>0.975461</td>\n",
              "      <td>1</td>\n",
              "      <td>NaN</td>\n",
              "    </tr>\n",
              "    <tr>\n",
              "      <th>592892</th>\n",
              "      <td>6019</td>\n",
              "      <td>3113</td>\n",
              "      <td>0</td>\n",
              "      <td>[212, 1475, 1704, 97, 189, 643, 64, 156, 1470,...</td>\n",
              "      <td>[0, 15, 0, 0, 0, 0]</td>\n",
              "      <td>0.987654</td>\n",
              "      <td>0.993808</td>\n",
              "      <td>0.975461</td>\n",
              "      <td>1</td>\n",
              "      <td>NaN</td>\n",
              "    </tr>\n",
              "    <tr>\n",
              "      <th>592893</th>\n",
              "      <td>6027</td>\n",
              "      <td>3113</td>\n",
              "      <td>0</td>\n",
              "      <td>[78, 432, 62, 587, 386, 122, 255, 195, 277, 117]</td>\n",
              "      <td>[0, 15, 0, 0, 0, 0]</td>\n",
              "      <td>0.987654</td>\n",
              "      <td>0.993808</td>\n",
              "      <td>0.975461</td>\n",
              "      <td>1</td>\n",
              "      <td>NaN</td>\n",
              "    </tr>\n",
              "  </tbody>\n",
              "</table>\n",
              "<p>592894 rows × 10 columns</p>\n",
              "</div>"
            ],
            "text/plain": [
              "        user  item  label                                            history  \\\n",
              "0          1   133      1        [98, 60, 91, 126, 163, 73, 79, 130, 86, 66]   \n",
              "1       1613   133      1  [605, 455, 86, 58, 72, 1265, 656, 954, 1103, 1...   \n",
              "2       2345   133      1  [1868, 137, 58, 86, 163, 1058, 1482, 1665, 125...   \n",
              "3       3819   133      1  [586, 322, 989, 1014, 1005, 60, 663, 591, 775,...   \n",
              "4       4132   133      1  [189, 195, 58, 630, 202, 782, 1685, 185, 653, ...   \n",
              "...      ...   ...    ...                                                ...   \n",
              "592889  5803  3113      0  [44, 438, 2306, 1106, 1831, 2091, 425, 171, 27...   \n",
              "592890  5879  3113      0  [1081, 1726, 1063, 1523, 2091, 1650, 2733, 999...   \n",
              "592891  5998  3113      0  [338, 743, 995, 1446, 121, 945, 1450, 985, 311...   \n",
              "592892  6019  3113      0  [212, 1475, 1704, 97, 189, 643, 64, 156, 1470,...   \n",
              "592893  6027  3113      0   [78, 432, 62, 587, 386, 122, 255, 195, 277, 117]   \n",
              "\n",
              "                  genre_cat  release_year_norm  release_year_sqrt  \\\n",
              "0        [4, 7, 0, 0, 0, 0]           0.938272           0.968644   \n",
              "1        [4, 7, 0, 0, 0, 0]           0.938272           0.968644   \n",
              "2        [4, 7, 0, 0, 0, 0]           0.938272           0.968644   \n",
              "3        [4, 7, 0, 0, 0, 0]           0.938272           0.968644   \n",
              "4        [4, 7, 0, 0, 0, 0]           0.938272           0.968644   \n",
              "...                     ...                ...                ...   \n",
              "592889  [0, 15, 0, 0, 0, 0]           0.987654           0.993808   \n",
              "592890  [0, 15, 0, 0, 0, 0]           0.987654           0.993808   \n",
              "592891  [0, 15, 0, 0, 0, 0]           0.987654           0.993808   \n",
              "592892  [0, 15, 0, 0, 0, 0]           0.987654           0.993808   \n",
              "592893  [0, 15, 0, 0, 0, 0]           0.987654           0.993808   \n",
              "\n",
              "        release_year_sq  rating  actual_rating  \n",
              "0              0.880354       1            3.0  \n",
              "1              0.880354       1            2.0  \n",
              "2              0.880354       1            4.0  \n",
              "3              0.880354       1            4.0  \n",
              "4              0.880354       1            4.0  \n",
              "...                 ...     ...            ...  \n",
              "592889         0.975461       1            NaN  \n",
              "592890         0.975461       1            NaN  \n",
              "592891         0.975461       1            NaN  \n",
              "592892         0.975461       1            NaN  \n",
              "592893         0.975461       1            NaN  \n",
              "\n",
              "[592894 rows x 10 columns]"
            ]
          },
          "execution_count": 204,
          "metadata": {},
          "output_type": "execute_result"
        }
      ],
      "source": [
        "complete_test = test_df.merge(test[['user','item','rating']].set_axis(labels =['user','item', 'actual_rating'], axis = 1), on = ['user','item'], how = 'left')\n",
        "complete_test"
      ]
    },
    {
      "cell_type": "markdown",
      "metadata": {
        "id": "UU428T6BvMBg"
      },
      "source": [
        "### Evaluation"
      ]
    },
    {
      "cell_type": "code",
      "execution_count": null,
      "metadata": {
        "id": "mGdVhAkUvMBh",
        "outputId": "84ca6c9c-c055-4cd9-bd1c-2d73b94a6968"
      },
      "outputs": [
        {
          "name": "stderr",
          "output_type": "stream",
          "text": [
            "100%|██████████| 3/3 [01:57<00:00, 39.33s/it]\n"
          ]
        },
        {
          "data": {
            "text/html": [
              "<div>\n",
              "<style scoped>\n",
              "    .dataframe tbody tr th:only-of-type {\n",
              "        vertical-align: middle;\n",
              "    }\n",
              "\n",
              "    .dataframe tbody tr th {\n",
              "        vertical-align: top;\n",
              "    }\n",
              "\n",
              "    .dataframe thead th {\n",
              "        text-align: right;\n",
              "    }\n",
              "</style>\n",
              "<table border=\"1\" class=\"dataframe\">\n",
              "  <thead>\n",
              "    <tr style=\"text-align: right;\">\n",
              "      <th></th>\n",
              "      <th>model name</th>\n",
              "      <th>k</th>\n",
              "      <th>metric</th>\n",
              "      <th>value</th>\n",
              "    </tr>\n",
              "  </thead>\n",
              "  <tbody>\n",
              "    <tr>\n",
              "      <th>0</th>\n",
              "      <td>Classic</td>\n",
              "      <td>0</td>\n",
              "      <td>loss history</td>\n",
              "      <td>[0.31094449758529663, 0.2586010992527008, 0.24...</td>\n",
              "    </tr>\n",
              "    <tr>\n",
              "      <th>1</th>\n",
              "      <td>Classic</td>\n",
              "      <td>0</td>\n",
              "      <td>train time (minutes)</td>\n",
              "      <td>8.8</td>\n",
              "    </tr>\n",
              "    <tr>\n",
              "      <th>2</th>\n",
              "      <td>Classic</td>\n",
              "      <td>3</td>\n",
              "      <td>HR</td>\n",
              "      <td>0.461997</td>\n",
              "    </tr>\n",
              "    <tr>\n",
              "      <th>3</th>\n",
              "      <td>Classic</td>\n",
              "      <td>5</td>\n",
              "      <td>HR</td>\n",
              "      <td>0.555224</td>\n",
              "    </tr>\n",
              "    <tr>\n",
              "      <th>4</th>\n",
              "      <td>Classic</td>\n",
              "      <td>7</td>\n",
              "      <td>HR</td>\n",
              "      <td>0.613015</td>\n",
              "    </tr>\n",
              "    <tr>\n",
              "      <th>5</th>\n",
              "      <td>Classic</td>\n",
              "      <td>8</td>\n",
              "      <td>HR</td>\n",
              "      <td>0.637688</td>\n",
              "    </tr>\n",
              "    <tr>\n",
              "      <th>6</th>\n",
              "      <td>Classic</td>\n",
              "      <td>10</td>\n",
              "      <td>HR</td>\n",
              "      <td>0.68306</td>\n",
              "    </tr>\n",
              "    <tr>\n",
              "      <th>7</th>\n",
              "      <td>Classic</td>\n",
              "      <td>3</td>\n",
              "      <td>MRR</td>\n",
              "      <td>0.342579</td>\n",
              "    </tr>\n",
              "    <tr>\n",
              "      <th>8</th>\n",
              "      <td>Classic</td>\n",
              "      <td>5</td>\n",
              "      <td>MRR</td>\n",
              "      <td>0.363736</td>\n",
              "    </tr>\n",
              "    <tr>\n",
              "      <th>9</th>\n",
              "      <td>Classic</td>\n",
              "      <td>7</td>\n",
              "      <td>MRR</td>\n",
              "      <td>0.372722</td>\n",
              "    </tr>\n",
              "    <tr>\n",
              "      <th>10</th>\n",
              "      <td>Classic</td>\n",
              "      <td>8</td>\n",
              "      <td>MRR</td>\n",
              "      <td>0.375788</td>\n",
              "    </tr>\n",
              "    <tr>\n",
              "      <th>11</th>\n",
              "      <td>Classic</td>\n",
              "      <td>10</td>\n",
              "      <td>MRR</td>\n",
              "      <td>0.380582</td>\n",
              "    </tr>\n",
              "    <tr>\n",
              "      <th>12</th>\n",
              "      <td>Classic</td>\n",
              "      <td>3</td>\n",
              "      <td>NDCG</td>\n",
              "      <td>0.373228</td>\n",
              "    </tr>\n",
              "    <tr>\n",
              "      <th>13</th>\n",
              "      <td>Classic</td>\n",
              "      <td>5</td>\n",
              "      <td>NDCG</td>\n",
              "      <td>0.411502</td>\n",
              "    </tr>\n",
              "    <tr>\n",
              "      <th>14</th>\n",
              "      <td>Classic</td>\n",
              "      <td>7</td>\n",
              "      <td>NDCG</td>\n",
              "      <td>0.431468</td>\n",
              "    </tr>\n",
              "    <tr>\n",
              "      <th>15</th>\n",
              "      <td>Classic</td>\n",
              "      <td>8</td>\n",
              "      <td>NDCG</td>\n",
              "      <td>0.439234</td>\n",
              "    </tr>\n",
              "    <tr>\n",
              "      <th>16</th>\n",
              "      <td>Classic</td>\n",
              "      <td>10</td>\n",
              "      <td>NDCG</td>\n",
              "      <td>0.452625</td>\n",
              "    </tr>\n",
              "    <tr>\n",
              "      <th>17</th>\n",
              "      <td>RankingSQRT</td>\n",
              "      <td>0</td>\n",
              "      <td>loss history</td>\n",
              "      <td>[0.35627156496047974, 0.2882542908191681, 0.27...</td>\n",
              "    </tr>\n",
              "    <tr>\n",
              "      <th>18</th>\n",
              "      <td>RankingSQRT</td>\n",
              "      <td>0</td>\n",
              "      <td>train time (minutes)</td>\n",
              "      <td>9.2</td>\n",
              "    </tr>\n",
              "    <tr>\n",
              "      <th>19</th>\n",
              "      <td>RankingSQRT</td>\n",
              "      <td>3</td>\n",
              "      <td>HR</td>\n",
              "      <td>0.444113</td>\n",
              "    </tr>\n",
              "    <tr>\n",
              "      <th>20</th>\n",
              "      <td>RankingSQRT</td>\n",
              "      <td>5</td>\n",
              "      <td>HR</td>\n",
              "      <td>0.543964</td>\n",
              "    </tr>\n",
              "    <tr>\n",
              "      <th>21</th>\n",
              "      <td>RankingSQRT</td>\n",
              "      <td>7</td>\n",
              "      <td>HR</td>\n",
              "      <td>0.613512</td>\n",
              "    </tr>\n",
              "    <tr>\n",
              "      <th>22</th>\n",
              "      <td>RankingSQRT</td>\n",
              "      <td>8</td>\n",
              "      <td>HR</td>\n",
              "      <td>0.642822</td>\n",
              "    </tr>\n",
              "    <tr>\n",
              "      <th>23</th>\n",
              "      <td>RankingSQRT</td>\n",
              "      <td>10</td>\n",
              "      <td>HR</td>\n",
              "      <td>0.689684</td>\n",
              "    </tr>\n",
              "    <tr>\n",
              "      <th>24</th>\n",
              "      <td>RankingSQRT</td>\n",
              "      <td>3</td>\n",
              "      <td>MRR</td>\n",
              "      <td>0.322763</td>\n",
              "    </tr>\n",
              "    <tr>\n",
              "      <th>25</th>\n",
              "      <td>RankingSQRT</td>\n",
              "      <td>5</td>\n",
              "      <td>MRR</td>\n",
              "      <td>0.345195</td>\n",
              "    </tr>\n",
              "    <tr>\n",
              "      <th>26</th>\n",
              "      <td>RankingSQRT</td>\n",
              "      <td>7</td>\n",
              "      <td>MRR</td>\n",
              "      <td>0.355997</td>\n",
              "    </tr>\n",
              "    <tr>\n",
              "      <th>27</th>\n",
              "      <td>RankingSQRT</td>\n",
              "      <td>8</td>\n",
              "      <td>MRR</td>\n",
              "      <td>0.35964</td>\n",
              "    </tr>\n",
              "    <tr>\n",
              "      <th>28</th>\n",
              "      <td>RankingSQRT</td>\n",
              "      <td>10</td>\n",
              "      <td>MRR</td>\n",
              "      <td>0.364582</td>\n",
              "    </tr>\n",
              "    <tr>\n",
              "      <th>29</th>\n",
              "      <td>RankingSQRT</td>\n",
              "      <td>3</td>\n",
              "      <td>NDCG</td>\n",
              "      <td>0.353858</td>\n",
              "    </tr>\n",
              "    <tr>\n",
              "      <th>30</th>\n",
              "      <td>RankingSQRT</td>\n",
              "      <td>5</td>\n",
              "      <td>NDCG</td>\n",
              "      <td>0.394651</td>\n",
              "    </tr>\n",
              "    <tr>\n",
              "      <th>31</th>\n",
              "      <td>RankingSQRT</td>\n",
              "      <td>7</td>\n",
              "      <td>NDCG</td>\n",
              "      <td>0.418668</td>\n",
              "    </tr>\n",
              "    <tr>\n",
              "      <th>32</th>\n",
              "      <td>RankingSQRT</td>\n",
              "      <td>8</td>\n",
              "      <td>NDCG</td>\n",
              "      <td>0.427893</td>\n",
              "    </tr>\n",
              "    <tr>\n",
              "      <th>33</th>\n",
              "      <td>RankingSQRT</td>\n",
              "      <td>10</td>\n",
              "      <td>NDCG</td>\n",
              "      <td>0.441715</td>\n",
              "    </tr>\n",
              "    <tr>\n",
              "      <th>34</th>\n",
              "      <td>WithConv</td>\n",
              "      <td>0</td>\n",
              "      <td>loss history</td>\n",
              "      <td>[0.3084891140460968, 0.24687720835208893, 0.23...</td>\n",
              "    </tr>\n",
              "    <tr>\n",
              "      <th>35</th>\n",
              "      <td>WithConv</td>\n",
              "      <td>0</td>\n",
              "      <td>train time (minutes)</td>\n",
              "      <td>10.3</td>\n",
              "    </tr>\n",
              "    <tr>\n",
              "      <th>36</th>\n",
              "      <td>WithConv</td>\n",
              "      <td>3</td>\n",
              "      <td>HR</td>\n",
              "      <td>0.494287</td>\n",
              "    </tr>\n",
              "    <tr>\n",
              "      <th>37</th>\n",
              "      <td>WithConv</td>\n",
              "      <td>5</td>\n",
              "      <td>HR</td>\n",
              "      <td>0.596291</td>\n",
              "    </tr>\n",
              "    <tr>\n",
              "      <th>38</th>\n",
              "      <td>WithConv</td>\n",
              "      <td>7</td>\n",
              "      <td>HR</td>\n",
              "      <td>0.657228</td>\n",
              "    </tr>\n",
              "    <tr>\n",
              "      <th>39</th>\n",
              "      <td>WithConv</td>\n",
              "      <td>8</td>\n",
              "      <td>HR</td>\n",
              "      <td>0.682398</td>\n",
              "    </tr>\n",
              "    <tr>\n",
              "      <th>40</th>\n",
              "      <td>WithConv</td>\n",
              "      <td>10</td>\n",
              "      <td>HR</td>\n",
              "      <td>0.715019</td>\n",
              "    </tr>\n",
              "    <tr>\n",
              "      <th>41</th>\n",
              "      <td>WithConv</td>\n",
              "      <td>3</td>\n",
              "      <td>MRR</td>\n",
              "      <td>0.36968</td>\n",
              "    </tr>\n",
              "    <tr>\n",
              "      <th>42</th>\n",
              "      <td>WithConv</td>\n",
              "      <td>5</td>\n",
              "      <td>MRR</td>\n",
              "      <td>0.392764</td>\n",
              "    </tr>\n",
              "    <tr>\n",
              "      <th>43</th>\n",
              "      <td>WithConv</td>\n",
              "      <td>7</td>\n",
              "      <td>MRR</td>\n",
              "      <td>0.402159</td>\n",
              "    </tr>\n",
              "    <tr>\n",
              "      <th>44</th>\n",
              "      <td>WithConv</td>\n",
              "      <td>8</td>\n",
              "      <td>MRR</td>\n",
              "      <td>0.405296</td>\n",
              "    </tr>\n",
              "    <tr>\n",
              "      <th>45</th>\n",
              "      <td>WithConv</td>\n",
              "      <td>10</td>\n",
              "      <td>MRR</td>\n",
              "      <td>0.408725</td>\n",
              "    </tr>\n",
              "    <tr>\n",
              "      <th>46</th>\n",
              "      <td>WithConv</td>\n",
              "      <td>3</td>\n",
              "      <td>NDCG</td>\n",
              "      <td>0.401654</td>\n",
              "    </tr>\n",
              "    <tr>\n",
              "      <th>47</th>\n",
              "      <td>WithConv</td>\n",
              "      <td>5</td>\n",
              "      <td>NDCG</td>\n",
              "      <td>0.443471</td>\n",
              "    </tr>\n",
              "    <tr>\n",
              "      <th>48</th>\n",
              "      <td>WithConv</td>\n",
              "      <td>7</td>\n",
              "      <td>NDCG</td>\n",
              "      <td>0.464447</td>\n",
              "    </tr>\n",
              "    <tr>\n",
              "      <th>49</th>\n",
              "      <td>WithConv</td>\n",
              "      <td>8</td>\n",
              "      <td>NDCG</td>\n",
              "      <td>0.472379</td>\n",
              "    </tr>\n",
              "    <tr>\n",
              "      <th>50</th>\n",
              "      <td>WithConv</td>\n",
              "      <td>10</td>\n",
              "      <td>NDCG</td>\n",
              "      <td>0.481988</td>\n",
              "    </tr>\n",
              "  </tbody>\n",
              "</table>\n",
              "</div>"
            ],
            "text/plain": [
              "     model name   k                metric  \\\n",
              "0       Classic   0          loss history   \n",
              "1       Classic   0  train time (minutes)   \n",
              "2       Classic   3                    HR   \n",
              "3       Classic   5                    HR   \n",
              "4       Classic   7                    HR   \n",
              "5       Classic   8                    HR   \n",
              "6       Classic  10                    HR   \n",
              "7       Classic   3                   MRR   \n",
              "8       Classic   5                   MRR   \n",
              "9       Classic   7                   MRR   \n",
              "10      Classic   8                   MRR   \n",
              "11      Classic  10                   MRR   \n",
              "12      Classic   3                  NDCG   \n",
              "13      Classic   5                  NDCG   \n",
              "14      Classic   7                  NDCG   \n",
              "15      Classic   8                  NDCG   \n",
              "16      Classic  10                  NDCG   \n",
              "17  RankingSQRT   0          loss history   \n",
              "18  RankingSQRT   0  train time (minutes)   \n",
              "19  RankingSQRT   3                    HR   \n",
              "20  RankingSQRT   5                    HR   \n",
              "21  RankingSQRT   7                    HR   \n",
              "22  RankingSQRT   8                    HR   \n",
              "23  RankingSQRT  10                    HR   \n",
              "24  RankingSQRT   3                   MRR   \n",
              "25  RankingSQRT   5                   MRR   \n",
              "26  RankingSQRT   7                   MRR   \n",
              "27  RankingSQRT   8                   MRR   \n",
              "28  RankingSQRT  10                   MRR   \n",
              "29  RankingSQRT   3                  NDCG   \n",
              "30  RankingSQRT   5                  NDCG   \n",
              "31  RankingSQRT   7                  NDCG   \n",
              "32  RankingSQRT   8                  NDCG   \n",
              "33  RankingSQRT  10                  NDCG   \n",
              "34     WithConv   0          loss history   \n",
              "35     WithConv   0  train time (minutes)   \n",
              "36     WithConv   3                    HR   \n",
              "37     WithConv   5                    HR   \n",
              "38     WithConv   7                    HR   \n",
              "39     WithConv   8                    HR   \n",
              "40     WithConv  10                    HR   \n",
              "41     WithConv   3                   MRR   \n",
              "42     WithConv   5                   MRR   \n",
              "43     WithConv   7                   MRR   \n",
              "44     WithConv   8                   MRR   \n",
              "45     WithConv  10                   MRR   \n",
              "46     WithConv   3                  NDCG   \n",
              "47     WithConv   5                  NDCG   \n",
              "48     WithConv   7                  NDCG   \n",
              "49     WithConv   8                  NDCG   \n",
              "50     WithConv  10                  NDCG   \n",
              "\n",
              "                                                value  \n",
              "0   [0.31094449758529663, 0.2586010992527008, 0.24...  \n",
              "1                                                 8.8  \n",
              "2                                            0.461997  \n",
              "3                                            0.555224  \n",
              "4                                            0.613015  \n",
              "5                                            0.637688  \n",
              "6                                             0.68306  \n",
              "7                                            0.342579  \n",
              "8                                            0.363736  \n",
              "9                                            0.372722  \n",
              "10                                           0.375788  \n",
              "11                                           0.380582  \n",
              "12                                           0.373228  \n",
              "13                                           0.411502  \n",
              "14                                           0.431468  \n",
              "15                                           0.439234  \n",
              "16                                           0.452625  \n",
              "17  [0.35627156496047974, 0.2882542908191681, 0.27...  \n",
              "18                                                9.2  \n",
              "19                                           0.444113  \n",
              "20                                           0.543964  \n",
              "21                                           0.613512  \n",
              "22                                           0.642822  \n",
              "23                                           0.689684  \n",
              "24                                           0.322763  \n",
              "25                                           0.345195  \n",
              "26                                           0.355997  \n",
              "27                                            0.35964  \n",
              "28                                           0.364582  \n",
              "29                                           0.353858  \n",
              "30                                           0.394651  \n",
              "31                                           0.418668  \n",
              "32                                           0.427893  \n",
              "33                                           0.441715  \n",
              "34  [0.3084891140460968, 0.24687720835208893, 0.23...  \n",
              "35                                               10.3  \n",
              "36                                           0.494287  \n",
              "37                                           0.596291  \n",
              "38                                           0.657228  \n",
              "39                                           0.682398  \n",
              "40                                           0.715019  \n",
              "41                                            0.36968  \n",
              "42                                           0.392764  \n",
              "43                                           0.402159  \n",
              "44                                           0.405296  \n",
              "45                                           0.408725  \n",
              "46                                           0.401654  \n",
              "47                                           0.443471  \n",
              "48                                           0.464447  \n",
              "49                                           0.472379  \n",
              "50                                           0.481988  "
            ]
          },
          "execution_count": 247,
          "metadata": {},
          "output_type": "execute_result"
        }
      ],
      "source": [
        "class Evaluation():\n",
        "    def __init__(self, model, test, complete_test_df):\n",
        "        self.test = test\n",
        "        self.model = model\n",
        "        test_ds = df2ds(complete_test_df)\n",
        "        self.complete_test_df = complete_test_df.copy()\n",
        "        item = torch.tensor(test_ds.item).to(device)\n",
        "        rating = torch.tensor(test_ds.rating).to(device)\n",
        "        history = torch.stack([torch.tensor(x) for x in test_ds.history]).to(device)\n",
        "        genre_cat = torch.stack([torch.tensor(x) for x in test_ds.genre_cat]).to(device)\n",
        "        release_year_norm = torch.tensor(test_ds.release_year_norm).to(device)\n",
        "        release_year_sq = torch.tensor(test_ds.release_year_sq).to(device)\n",
        "        release_year_sqrt = torch.tensor(test_ds.release_year_sqrt).to(device)\n",
        "        label = torch.tensor(test_ds.label).to(dtype = torch.float32, device = device)\n",
        "        with torch.no_grad():\n",
        "            pred = model.forward(item, \n",
        "                            history, \n",
        "                            genre_cat, \n",
        "                            release_year_norm, \n",
        "                            release_year_sqrt,\n",
        "                            release_year_sq,\n",
        "                            rating)\n",
        "        self.complete_test_df['score'] = pred.detach().cpu()\n",
        "        self.complete_test_df = self.complete_test_df.sort_values(['user','score'], ascending = False)\n",
        "        self.evaluations = {}\n",
        "\n",
        "    \n",
        "    def predict_for_user(self, user_idx, top_k):\n",
        "        user_data = self.complete_test_df.loc[self.complete_test_df.user == user_idx]\n",
        "        result = user_data.sort_values('score', ascending = False).item.to_numpy()[:top_k]\n",
        "        return result\n",
        "\n",
        "    def evaluate_model(self, top_k):\n",
        "        for k in top_k:\n",
        "            hits = []\n",
        "            dcgs = []\n",
        "            recip_ranks = []\n",
        "            for user_idx, test_item in self.test[['user','item']].values:\n",
        "                prediction = self.predict_for_user(user_idx, k)\n",
        "                hit = test_item in prediction\n",
        "                for i, item in enumerate(prediction):\n",
        "                    if item == test_item:\n",
        "                        dcg = np.log(2) / np.log(2 + i)\n",
        "                        recip_rank = 1 / (i + 1)\n",
        "                dcg = dcg if hit else 0\n",
        "                rr = recip_rank if hit else 0\n",
        "                hits.append(hit)\n",
        "                dcgs.append(dcg)\n",
        "                recip_ranks.append(rr)\n",
        "            hit_ratio = np.mean(hits)\n",
        "            mean_dcg = np.mean(dcgs)\n",
        "            mrr = np.mean(recip_ranks)\n",
        "            self.evaluations[f'HR@{k}'] = hit_ratio\n",
        "            self.evaluations[f'NDCG@{k}'] = mean_dcg\n",
        "            self.evaluations[f'MRR@{k}'] = mrr\n",
        "\n",
        "    def plot_evaluations(self, top_k = [3,5,7,10], metrics = ['HR', 'NDCG', 'MRR']):\n",
        "        if not np.all([f\"HR@{k}\" in self.evaluations for k in top_k]):\n",
        "            self.evaluate_model(top_k)\n",
        "        for metric in metrics:\n",
        "            y = [self.evaluations[f\"{metric}@{k}\"] for k in top_k]\n",
        "            plt.plot(top_k, y, label = metric)\n",
        "            plt.xlabel(\"top k\")\n",
        "            plt.ylabel(\"metric score\")\n",
        "            plt.legend()\n",
        "        \n",
        "\n",
        "\n",
        "test_data = [test, complete_test]\n",
        "models = {'Classic': [ranking_nw, Evaluation(ranking_nw, *test_data)],\n",
        "          'RankingSQRT': [ranking_nw_sqrt, Evaluation(ranking_nw_sqrt, *test_data)],\n",
        "          'WithConv': [ranking_nw_conv, Evaluation(ranking_nw_conv, *test_data)]\n",
        "          }\n",
        "top_k = [3, 5, 7, 8, 10]\n",
        "metrics = ['HR', 'MRR', 'NDCG']\n",
        "eval_df = []\n",
        "columns = ['model name', 'k', 'metric', 'value']\n",
        "for model_name,(model,evaluation) in tqdm(models.items()):\n",
        "    evaluation.evaluate_model(top_k)\n",
        "    loss = round(model.loss_history[-1].detach().cpu().item(),5)\n",
        "    train_min = round(model.train_time / 60, 1)\n",
        "    loss_history = [x.detach().cpu().item() for x in model.loss_history]\n",
        "    eval_df.append([model_name, 0, 'loss history', loss_history])\n",
        "    eval_df.append([model_name, 0, 'train time (minutes)', train_min])\n",
        "    for metric in metrics:\n",
        "        for k in top_k:\n",
        "            eval_df.append([model_name, k, metric, evaluation.evaluations[f\"{metric}@{k}\"]])\n",
        "eval_df = pd.DataFrame(eval_df, columns = columns)\n",
        "eval_df"
      ]
    },
    {
      "cell_type": "code",
      "execution_count": null,
      "metadata": {
        "id": "zFmbk2VXvMBh",
        "outputId": "c0586b4b-588d-42d5-9f08-ae9c2bb25444"
      },
      "outputs": [
        {
          "data": {
            "image/png": "[encoded data removed]",
            "text/plain": [
              "<Figure size 1643.12x500 with 3 Axes>"
            ]
          },
          "metadata": {},
          "output_type": "display_data"
        }
      ],
      "source": [
        "fig = sns.relplot(data = eval_df.loc[eval_df.metric.apply(lambda x: x in metrics)],\n",
        "        x = 'k', y = 'value', hue = 'model name', col = 'metric', kind = 'line')\n",
        "\n",
        "plt.savefig(\"metric_top_k_no_conv.png\", format = 'png')"
      ]
    },
    {
      "cell_type": "code",
      "execution_count": null,
      "metadata": {
        "id": "OLi9K6NSvMBh",
        "outputId": "c5cf0f65-c9a2-4c3c-cb99-b890179b36a1"
      },
      "outputs": [
        {
          "data": {
            "text/plain": [
              "<AxesSubplot: title={'center': 'time to train (minutes)'}, xlabel='model name'>"
            ]
          },
          "execution_count": 249,
          "metadata": {},
          "output_type": "execute_result"
        },
        {
          "data": {
            "image/png": "[encoded data removed]",
            "text/plain": [
              "<Figure size 640x480 with 1 Axes>"
            ]
          },
          "metadata": {},
          "output_type": "display_data"
        }
      ],
      "source": [
        "eval_df.loc[eval_df.metric == 'train time (minutes)', ['model name', 'value']].plot.bar(x = 'model name', title = 'time to train (minutes)')"
      ]
    },
    {
      "cell_type": "code",
      "execution_count": null,
      "metadata": {
        "id": "_aZ6d6G1vMBh",
        "outputId": "13d9c6f2-47f6-4f03-ebd2-b7f82b731547"
      },
      "outputs": [
        {
          "data": {
            "text/plain": [
              "<matplotlib.legend.Legend at 0x7fd1b96909a0>"
            ]
          },
          "execution_count": 250,
          "metadata": {},
          "output_type": "execute_result"
        },
        {
          "data": {
            "image/png": "[encoded data removed]",
            "text/plain": [
              "<Figure size 640x480 with 1 Axes>"
            ]
          },
          "metadata": {},
          "output_type": "display_data"
        }
      ],
      "source": [
        "loss_data = eval_df.loc[eval_df.metric == 'loss history', ['model name', 'value']]\n",
        "for row in loss_data.iterrows():\n",
        "    loss = row[1].value\n",
        "    model = row[1]['model name']\n",
        "    plt.plot(np.arange(len(loss)), loss, label = model)\n",
        "plt.xlabel(\"epoch\")\n",
        "plt.ylabel(\"loss\")\n",
        "plt.title(\"train loss\")\n",
        "plt.legend()"
      ]
    },
    {
      "cell_type": "code",
      "execution_count": null,
      "metadata": {
        "id": "pen2QGKTvMBi",
        "outputId": "0cd2e3db-843b-404f-9563-fcb51296d4e5"
      },
      "outputs": [
        {
          "data": {
            "image/png": "[encoded data removed]",
            "text/plain": [
              "<Figure size 640x480 with 1 Axes>"
            ]
          },
          "metadata": {},
          "output_type": "display_data"
        }
      ],
      "source": [
        "mask = (eval_df.metric.apply(lambda x: x in metrics)) & (eval_df.k == 10)\n",
        "ax  = sns.barplot(eval_df.loc[mask], x = 'metric', y = 'value', hue = 'model name')\n",
        "_ = plt.title(\"metrics@10\")"
      ]
    },
    {
      "cell_type": "code",
      "execution_count": null,
      "metadata": {
        "id": "o8mjT0HxicO6",
        "outputId": "214ee2c1-ce3f-40b6-9384-a6ee25c328c4"
      },
      "outputs": [
        {
          "name": "stderr",
          "output_type": "stream",
          "text": [
            "100%|██████████| 4855/4855 [00:52<00:00, 91.64it/s] \n"
          ]
        },
        {
          "name": "stdout",
          "output_type": "stream",
          "text": [
            "tensor(0.1692, device='cuda:0')\n",
            "epoch 0 loss: 0.32871559262275696 validation: 0.16918350756168365\n"
          ]
        },
        {
          "name": "stderr",
          "output_type": "stream",
          "text": [
            "100%|██████████| 4855/4855 [00:50<00:00, 96.44it/s] \n"
          ]
        },
        {
          "name": "stdout",
          "output_type": "stream",
          "text": [
            "tensor(0.1539, device='cuda:0')\n",
            "epoch 1 loss: 0.2720338702201843 validation: 0.15392588078975677\n"
          ]
        },
        {
          "name": "stderr",
          "output_type": "stream",
          "text": [
            "100%|██████████| 4855/4855 [00:49<00:00, 98.23it/s] \n"
          ]
        },
        {
          "name": "stdout",
          "output_type": "stream",
          "text": [
            "tensor(0.1537, device='cuda:0')\n",
            "epoch 2 loss: 0.25071921944618225 validation: 0.15373459458351135\n"
          ]
        },
        {
          "name": "stderr",
          "output_type": "stream",
          "text": [
            "100%|██████████| 4855/4855 [00:49<00:00, 98.45it/s] \n"
          ]
        },
        {
          "name": "stdout",
          "output_type": "stream",
          "text": [
            "tensor(0.1477, device='cuda:0')\n",
            "epoch 3 loss: 0.24428388476371765 validation: 0.14771616458892822\n"
          ]
        },
        {
          "name": "stderr",
          "output_type": "stream",
          "text": [
            "100%|██████████| 4855/4855 [00:49<00:00, 98.21it/s] \n"
          ]
        },
        {
          "name": "stdout",
          "output_type": "stream",
          "text": [
            "tensor(0.1544, device='cuda:0')\n",
            "epoch 4 loss: 0.2414831519126892 validation: 0.1544303596019745\n"
          ]
        },
        {
          "name": "stderr",
          "output_type": "stream",
          "text": [
            "100%|██████████| 4855/4855 [00:49<00:00, 97.72it/s] \n"
          ]
        },
        {
          "name": "stdout",
          "output_type": "stream",
          "text": [
            "tensor(0.1525, device='cuda:0')\n",
            "epoch 5 loss: 0.2397589087486267 validation: 0.15250852704048157\n"
          ]
        },
        {
          "name": "stderr",
          "output_type": "stream",
          "text": [
            "100%|██████████| 4855/4855 [00:48<00:00, 100.87it/s]\n"
          ]
        },
        {
          "name": "stdout",
          "output_type": "stream",
          "text": [
            "tensor(0.1524, device='cuda:0')\n",
            "epoch 6 loss: 0.23876333236694336 validation: 0.15241576731204987\n"
          ]
        },
        {
          "name": "stderr",
          "output_type": "stream",
          "text": [
            "100%|██████████| 4855/4855 [00:47<00:00, 101.68it/s]\n"
          ]
        },
        {
          "name": "stdout",
          "output_type": "stream",
          "text": [
            "tensor(0.1522, device='cuda:0')\n",
            "epoch 7 loss: 0.23774074018001556 validation: 0.15222899615764618\n"
          ]
        },
        {
          "name": "stderr",
          "output_type": "stream",
          "text": [
            "100%|██████████| 4855/4855 [00:47<00:00, 101.69it/s]\n"
          ]
        },
        {
          "name": "stdout",
          "output_type": "stream",
          "text": [
            "tensor(0.1485, device='cuda:0')\n",
            "epoch 8 loss: 0.23706357181072235 validation: 0.14848069846630096\n"
          ]
        },
        {
          "name": "stderr",
          "output_type": "stream",
          "text": [
            "100%|██████████| 4855/4855 [00:47<00:00, 102.03it/s]\n"
          ]
        },
        {
          "name": "stdout",
          "output_type": "stream",
          "text": [
            "tensor(0.1483, device='cuda:0')\n",
            "epoch 9 loss: 0.23646166920661926 validation: 0.14825597405433655\n"
          ]
        },
        {
          "name": "stderr",
          "output_type": "stream",
          "text": [
            "100%|██████████| 4855/4855 [00:48<00:00, 101.06it/s]\n"
          ]
        },
        {
          "name": "stdout",
          "output_type": "stream",
          "text": [
            "tensor(0.1815, device='cuda:0')\n",
            "epoch 0 loss: 0.31856629252433777 validation: 0.1815081238746643\n"
          ]
        },
        {
          "name": "stderr",
          "output_type": "stream",
          "text": [
            "100%|██████████| 4855/4855 [00:48<00:00, 100.03it/s]\n"
          ]
        },
        {
          "name": "stdout",
          "output_type": "stream",
          "text": [
            "tensor(0.1498, device='cuda:0')\n",
            "epoch 1 loss: 0.2590075433254242 validation: 0.1497739851474762\n"
          ]
        },
        {
          "name": "stderr",
          "output_type": "stream",
          "text": [
            "100%|██████████| 4855/4855 [00:54<00:00, 88.57it/s] \n"
          ]
        },
        {
          "name": "stdout",
          "output_type": "stream",
          "text": [
            "tensor(0.1387, device='cuda:0')\n",
            "epoch 2 loss: 0.24179194867610931 validation: 0.1387181431055069\n"
          ]
        },
        {
          "name": "stderr",
          "output_type": "stream",
          "text": [
            "100%|██████████| 4855/4855 [00:54<00:00, 89.20it/s] \n"
          ]
        },
        {
          "name": "stdout",
          "output_type": "stream",
          "text": [
            "tensor(0.1232, device='cuda:0')\n",
            "epoch 3 loss: 0.23263153433799744 validation: 0.12323803454637527\n"
          ]
        },
        {
          "name": "stderr",
          "output_type": "stream",
          "text": [
            "100%|██████████| 4855/4855 [01:03<00:00, 76.08it/s]\n"
          ]
        },
        {
          "name": "stdout",
          "output_type": "stream",
          "text": [
            "tensor(0.1286, device='cuda:0')\n",
            "epoch 4 loss: 0.22769436240196228 validation: 0.12864038348197937\n"
          ]
        },
        {
          "name": "stderr",
          "output_type": "stream",
          "text": [
            "100%|██████████| 4855/4855 [00:56<00:00, 85.80it/s] \n"
          ]
        },
        {
          "name": "stdout",
          "output_type": "stream",
          "text": [
            "tensor(0.1311, device='cuda:0')\n",
            "epoch 5 loss: 0.22532890737056732 validation: 0.13114869594573975\n"
          ]
        },
        {
          "name": "stderr",
          "output_type": "stream",
          "text": [
            "100%|██████████| 4855/4855 [00:46<00:00, 104.34it/s]\n"
          ]
        },
        {
          "name": "stdout",
          "output_type": "stream",
          "text": [
            "tensor(0.1298, device='cuda:0')\n",
            "epoch 6 loss: 0.22388191521167755 validation: 0.1297898292541504\n"
          ]
        },
        {
          "name": "stderr",
          "output_type": "stream",
          "text": [
            "100%|██████████| 4855/4855 [00:48<00:00, 100.69it/s]\n"
          ]
        },
        {
          "name": "stdout",
          "output_type": "stream",
          "text": [
            "tensor(0.1282, device='cuda:0')\n",
            "epoch 7 loss: 0.22277623414993286 validation: 0.12822915613651276\n"
          ]
        },
        {
          "name": "stderr",
          "output_type": "stream",
          "text": [
            "100%|██████████| 4855/4855 [00:48<00:00, 100.18it/s]\n"
          ]
        },
        {
          "name": "stdout",
          "output_type": "stream",
          "text": [
            "tensor(0.1329, device='cuda:0')\n",
            "epoch 8 loss: 0.22183583676815033 validation: 0.1329403519630432\n"
          ]
        },
        {
          "name": "stderr",
          "output_type": "stream",
          "text": [
            "100%|██████████| 4855/4855 [00:50<00:00, 96.40it/s] \n"
          ]
        },
        {
          "name": "stdout",
          "output_type": "stream",
          "text": [
            "tensor(0.1305, device='cuda:0')\n",
            "epoch 9 loss: 0.22123147547245026 validation: 0.13050726056098938\n"
          ]
        },
        {
          "name": "stderr",
          "output_type": "stream",
          "text": [
            "100%|██████████| 4855/4855 [00:55<00:00, 88.27it/s]\n"
          ]
        },
        {
          "name": "stdout",
          "output_type": "stream",
          "text": [
            "tensor(0.2231, device='cuda:0')\n",
            "epoch 0 loss: 0.3954429626464844 validation: 0.22312568128108978\n"
          ]
        },
        {
          "name": "stderr",
          "output_type": "stream",
          "text": [
            "100%|██████████| 4855/4855 [00:53<00:00, 90.05it/s]\n"
          ]
        },
        {
          "name": "stdout",
          "output_type": "stream",
          "text": [
            "tensor(0.2138, device='cuda:0')\n",
            "epoch 1 loss: 0.36032527685165405 validation: 0.21375496685504913\n"
          ]
        },
        {
          "name": "stderr",
          "output_type": "stream",
          "text": [
            "100%|██████████| 4855/4855 [00:54<00:00, 89.51it/s] \n"
          ]
        },
        {
          "name": "stdout",
          "output_type": "stream",
          "text": [
            "tensor(0.1904, device='cuda:0')\n",
            "epoch 2 loss: 0.3398239016532898 validation: 0.19041885435581207\n"
          ]
        },
        {
          "name": "stderr",
          "output_type": "stream",
          "text": [
            "100%|██████████| 4855/4855 [00:51<00:00, 94.25it/s] \n"
          ]
        },
        {
          "name": "stdout",
          "output_type": "stream",
          "text": [
            "tensor(0.1835, device='cuda:0')\n",
            "epoch 3 loss: 0.3257952034473419 validation: 0.18348665535449982\n"
          ]
        },
        {
          "name": "stderr",
          "output_type": "stream",
          "text": [
            "100%|██████████| 4855/4855 [00:56<00:00, 86.68it/s] \n"
          ]
        },
        {
          "name": "stdout",
          "output_type": "stream",
          "text": [
            "tensor(0.1815, device='cuda:0')\n",
            "epoch 4 loss: 0.31781673431396484 validation: 0.18149971961975098\n"
          ]
        },
        {
          "name": "stderr",
          "output_type": "stream",
          "text": [
            "100%|██████████| 4855/4855 [00:52<00:00, 92.02it/s] \n"
          ]
        },
        {
          "name": "stdout",
          "output_type": "stream",
          "text": [
            "tensor(0.1821, device='cuda:0')\n",
            "epoch 5 loss: 0.3121660649776459 validation: 0.18213079869747162\n"
          ]
        },
        {
          "name": "stderr",
          "output_type": "stream",
          "text": [
            "100%|██████████| 4855/4855 [00:59<00:00, 81.57it/s] \n"
          ]
        },
        {
          "name": "stdout",
          "output_type": "stream",
          "text": [
            "tensor(0.1816, device='cuda:0')\n",
            "epoch 6 loss: 0.30699867010116577 validation: 0.1816062331199646\n"
          ]
        },
        {
          "name": "stderr",
          "output_type": "stream",
          "text": [
            "100%|██████████| 4855/4855 [00:55<00:00, 87.98it/s] \n"
          ]
        },
        {
          "name": "stdout",
          "output_type": "stream",
          "text": [
            "tensor(0.1807, device='cuda:0')\n",
            "epoch 7 loss: 0.30221086740493774 validation: 0.18066951632499695\n"
          ]
        },
        {
          "name": "stderr",
          "output_type": "stream",
          "text": [
            "100%|██████████| 4855/4855 [00:53<00:00, 90.93it/s] \n"
          ]
        },
        {
          "name": "stdout",
          "output_type": "stream",
          "text": [
            "tensor(0.1807, device='cuda:0')\n",
            "epoch 8 loss: 0.2979799211025238 validation: 0.18068785965442657\n"
          ]
        },
        {
          "name": "stderr",
          "output_type": "stream",
          "text": [
            "100%|██████████| 4855/4855 [00:52<00:00, 91.81it/s]\n"
          ]
        },
        {
          "name": "stdout",
          "output_type": "stream",
          "text": [
            "tensor(0.1800, device='cuda:0')\n",
            "epoch 9 loss: 0.2942572236061096 validation: 0.17997169494628906\n"
          ]
        },
        {
          "name": "stderr",
          "output_type": "stream",
          "text": [
            "100%|██████████| 4855/4855 [00:56<00:00, 85.76it/s] \n"
          ]
        },
        {
          "name": "stdout",
          "output_type": "stream",
          "text": [
            "tensor(0.2019, device='cuda:0')\n",
            "epoch 0 loss: 0.38222891092300415 validation: 0.20190824568271637\n"
          ]
        },
        {
          "name": "stderr",
          "output_type": "stream",
          "text": [
            "100%|██████████| 4855/4855 [00:51<00:00, 93.57it/s] \n"
          ]
        },
        {
          "name": "stdout",
          "output_type": "stream",
          "text": [
            "tensor(0.1866, device='cuda:0')\n",
            "epoch 1 loss: 0.3326992690563202 validation: 0.1866152286529541\n"
          ]
        },
        {
          "name": "stderr",
          "output_type": "stream",
          "text": [
            "100%|██████████| 4855/4855 [00:49<00:00, 99.06it/s] \n"
          ]
        },
        {
          "name": "stdout",
          "output_type": "stream",
          "text": [
            "tensor(0.1777, device='cuda:0')\n",
            "epoch 2 loss: 0.31370365619659424 validation: 0.17769691348075867\n"
          ]
        },
        {
          "name": "stderr",
          "output_type": "stream",
          "text": [
            "100%|██████████| 4855/4855 [00:51<00:00, 94.77it/s] \n"
          ]
        },
        {
          "name": "stdout",
          "output_type": "stream",
          "text": [
            "tensor(0.1681, device='cuda:0')\n",
            "epoch 3 loss: 0.3027626574039459 validation: 0.16813276708126068\n"
          ]
        },
        {
          "name": "stderr",
          "output_type": "stream",
          "text": [
            "100%|██████████| 4855/4855 [00:49<00:00, 97.16it/s] \n"
          ]
        },
        {
          "name": "stdout",
          "output_type": "stream",
          "text": [
            "tensor(0.1639, device='cuda:0')\n",
            "epoch 4 loss: 0.29331016540527344 validation: 0.16393308341503143\n"
          ]
        },
        {
          "name": "stderr",
          "output_type": "stream",
          "text": [
            "100%|██████████| 4855/4855 [00:52<00:00, 91.95it/s] \n"
          ]
        },
        {
          "name": "stdout",
          "output_type": "stream",
          "text": [
            "tensor(0.1622, device='cuda:0')\n",
            "epoch 5 loss: 0.28462138772010803 validation: 0.1621725708246231\n"
          ]
        },
        {
          "name": "stderr",
          "output_type": "stream",
          "text": [
            "100%|██████████| 4855/4855 [00:51<00:00, 93.59it/s] \n"
          ]
        },
        {
          "name": "stdout",
          "output_type": "stream",
          "text": [
            "tensor(0.1584, device='cuda:0')\n",
            "epoch 6 loss: 0.27592483162879944 validation: 0.1583634614944458\n"
          ]
        },
        {
          "name": "stderr",
          "output_type": "stream",
          "text": [
            "100%|██████████| 4855/4855 [00:52<00:00, 91.90it/s] \n"
          ]
        },
        {
          "name": "stdout",
          "output_type": "stream",
          "text": [
            "tensor(0.1573, device='cuda:0')\n",
            "epoch 7 loss: 0.2676234245300293 validation: 0.15727189183235168\n"
          ]
        },
        {
          "name": "stderr",
          "output_type": "stream",
          "text": [
            "100%|██████████| 4855/4855 [00:57<00:00, 84.60it/s]\n"
          ]
        },
        {
          "name": "stdout",
          "output_type": "stream",
          "text": [
            "tensor(0.1559, device='cuda:0')\n",
            "epoch 8 loss: 0.26095935702323914 validation: 0.15589699149131775\n"
          ]
        },
        {
          "name": "stderr",
          "output_type": "stream",
          "text": [
            "100%|██████████| 4855/4855 [01:00<00:00, 80.45it/s] \n"
          ]
        },
        {
          "name": "stdout",
          "output_type": "stream",
          "text": [
            "tensor(0.1560, device='cuda:0')\n",
            "epoch 9 loss: 0.2559221684932709 validation: 0.1559605449438095\n"
          ]
        },
        {
          "ename": "TypeError",
          "evalue": "DataFrame.__init__() got an unexpected keyword argument 'colulmns'",
          "output_type": "error",
          "traceback": [
            "\u001b[0;31m---------------------------------------------------------------------------\u001b[0m",
            "\u001b[0;31mTypeError\u001b[0m                                 Traceback (most recent call last)",
            "Cell \u001b[0;32mIn[286], line 21\u001b[0m\n\u001b[1;32m     18\u001b[0m         row\u001b[39m.\u001b[39mextend([evaluation\u001b[39m.\u001b[39mevaluations[metric] \u001b[39mfor\u001b[39;00m metric \u001b[39min\u001b[39;00m metrics])\n\u001b[1;32m     19\u001b[0m         hpt_table\u001b[39m.\u001b[39mappend(row)\n\u001b[0;32m---> 21\u001b[0m hpt_df \u001b[39m=\u001b[39m pd\u001b[39m.\u001b[39;49mDataFrame(hpt_table, colulmns \u001b[39m=\u001b[39;49m columns)\n\u001b[1;32m     22\u001b[0m hpt_df\n",
            "\u001b[0;31mTypeError\u001b[0m: DataFrame.__init__() got an unexpected keyword argument 'colulmns'"
          ]
        }
      ],
      "source": [
        "hpt_table = []\n",
        "columns = ['lr', 'categorical embedding dim', 'item embedding dim', \n",
        "           'training loss', 'test loss']\n",
        "metrics = ['HR@10', 'MRR@10', 'NDCG@10', 'HR@5', 'MRR@5', 'NDCG@5']\n",
        "columns.extend(metrics)\n",
        "epochs = 10\n",
        "reg = 1e-3\n",
        "for lr in [0.01, 0.001]:\n",
        "    for cat_embed_dim, item_embed_dim in [[16, 8],[32, 16]]:\n",
        "        model = RankingNetwork(item_embed_dim, cat_embed_dim)\n",
        "        model = model.to(device)\n",
        "        model.train(train, lr, reg, epochs, test_ds)\n",
        "        train_loss = model.loss_history[-1].detach().cpu().item()\n",
        "        test_loss = model.test_loss_history[-1].detach().cpu().item()\n",
        "        evaluation = Evaluation(model, test, complete_test)\n",
        "        evaluation.evaluate_model(top_k = [5, 10])\n",
        "        row = [lr, cat_embed_dim, item_embed_dim, train_loss, test_loss]\n",
        "        row.extend([evaluation.evaluations[metric] for metric in metrics])\n",
        "        hpt_table.append(row)\n",
        "\n",
        "hpt_df = pd.DataFrame(hpt_table, columns = columns)\n",
        "hpt_df"
      ]
    },
    {
      "cell_type": "code",
      "execution_count": null,
      "metadata": {
        "id": "vvQe6aVzvMBi",
        "outputId": "ce3c8f96-34ec-439a-eb78-1aa362f883a2"
      },
      "outputs": [
        {
          "name": "stdout",
          "output_type": "stream",
          "text": [
            "> \u001b[0;32m/tmp/ipykernel_613/4238480540.py\u001b[0m(21)\u001b[0;36m<module>\u001b[0;34m()\u001b[0m\n",
            "\u001b[0;32m     18 \u001b[0;31m        \u001b[0mrow\u001b[0m\u001b[0;34m.\u001b[0m\u001b[0mextend\u001b[0m\u001b[0;34m(\u001b[0m\u001b[0;34m[\u001b[0m\u001b[0mevaluation\u001b[0m\u001b[0;34m.\u001b[0m\u001b[0mevaluations\u001b[0m\u001b[0;34m[\u001b[0m\u001b[0mmetric\u001b[0m\u001b[0;34m]\u001b[0m \u001b[0;32mfor\u001b[0m \u001b[0mmetric\u001b[0m \u001b[0;32min\u001b[0m \u001b[0mmetrics\u001b[0m\u001b[0;34m]\u001b[0m\u001b[0;34m)\u001b[0m\u001b[0;34m\u001b[0m\u001b[0;34m\u001b[0m\u001b[0m\n",
            "\u001b[0m\u001b[0;32m     19 \u001b[0;31m        \u001b[0mhpt_table\u001b[0m\u001b[0;34m.\u001b[0m\u001b[0mappend\u001b[0m\u001b[0;34m(\u001b[0m\u001b[0mrow\u001b[0m\u001b[0;34m)\u001b[0m\u001b[0;34m\u001b[0m\u001b[0;34m\u001b[0m\u001b[0m\n",
            "\u001b[0m\u001b[0;32m     20 \u001b[0;31m\u001b[0;34m\u001b[0m\u001b[0m\n",
            "\u001b[0m\u001b[0;32m---> 21 \u001b[0;31m\u001b[0mhpt_df\u001b[0m \u001b[0;34m=\u001b[0m \u001b[0mpd\u001b[0m\u001b[0;34m.\u001b[0m\u001b[0mDataFrame\u001b[0m\u001b[0;34m(\u001b[0m\u001b[0mhpt_table\u001b[0m\u001b[0;34m,\u001b[0m \u001b[0mcolulmns\u001b[0m \u001b[0;34m=\u001b[0m \u001b[0mcolumns\u001b[0m\u001b[0;34m)\u001b[0m\u001b[0;34m\u001b[0m\u001b[0;34m\u001b[0m\u001b[0m\n",
            "\u001b[0m\u001b[0;32m     22 \u001b[0;31m\u001b[0mhpt_df\u001b[0m\u001b[0;34m\u001b[0m\u001b[0;34m\u001b[0m\u001b[0m\n",
            "\u001b[0m\n",
            "[[0.01, 16, 8, 0.23646166920661926, 0.14825597405433655, 0.6661698956780924, 0.34963846111387104, 0.4249484967825396, 0.5325384997516145, 0.3316525914886571, 0.38157980876195474], [0.01, 32, 16, 0.22123147547245026, 0.13050726056098938, 0.6924987580725286, 0.3827998302042018, 0.45660858289382605, 0.5659877463156152, 0.3660484627697742, 0.41582967750669153], [0.001, 16, 8, 0.2942572236061096, 0.17997169494628906, 0.5696307335651598, 0.26014115918487507, 0.3328952176574326, 0.4134790528233151, 0.2393497819727328, 0.28244268897640534], [0.001, 32, 16, 0.2559221684932709, 0.1559605449438095, 0.6486173207484683, 0.32650628060464126, 0.40277961173015675, 0.5000827951647624, 0.3065601368880057, 0.35461940291986793]]\n",
            "[[0.01, 16, 8, 0.23646166920661926, 0.14825597405433655, 0.6661698956780924, 0.34963846111387104, 0.4249484967825396, 0.5325384997516145, 0.3316525914886571, 0.38157980876195474], [0.01, 32, 16, 0.22123147547245026, 0.13050726056098938, 0.6924987580725286, 0.3827998302042018, 0.45660858289382605, 0.5659877463156152, 0.3660484627697742, 0.41582967750669153], [0.001, 16, 8, 0.2942572236061096, 0.17997169494628906, 0.5696307335651598, 0.26014115918487507, 0.3328952176574326, 0.4134790528233151, 0.2393497819727328, 0.28244268897640534], [0.001, 32, 16, 0.2559221684932709, 0.1559605449438095, 0.6486173207484683, 0.32650628060464126, 0.40277961173015675, 0.5000827951647624, 0.3065601368880057, 0.35461940291986793]]\n",
            "*** ValueError: Length of values (4) does not match length of index (11)\n",
            "*** ValueError: Length of values (4) does not match length of index (11)\n",
            "      lr  categorical embedding dim  item embedding dim  training loss  \\\n",
            "0  0.010                         16                   8       0.236462   \n",
            "1  0.010                         32                  16       0.221231   \n",
            "2  0.001                         16                   8       0.294257   \n",
            "3  0.001                         32                  16       0.255922   \n",
            "\n",
            "   test loss     HR@10    MRR@10   NDCG@10      HR@5     MRR@5    NDCG@5  \n",
            "0   0.148256  0.666170  0.349638  0.424948  0.532538  0.331653  0.381580  \n",
            "1   0.130507  0.692499  0.382800  0.456609  0.565988  0.366048  0.415830  \n",
            "2   0.179972  0.569631  0.260141  0.332895  0.413479  0.239350  0.282443  \n",
            "3   0.155961  0.648617  0.326506  0.402780  0.500083  0.306560  0.354619  \n"
          ]
        }
      ],
      "source": [
        "pdb.pm()"
      ]
    },
    {
      "cell_type": "code",
      "execution_count": null,
      "metadata": {
        "id": "Hyzr8jvQvMBi",
        "outputId": "72d5e991-dd0b-42ca-8a1b-4afe0a865fe0"
      },
      "outputs": [
        {
          "name": "stderr",
          "output_type": "stream",
          "text": [
            "100%|██████████| 4855/4855 [01:02<00:00, 77.58it/s]\n"
          ]
        },
        {
          "name": "stdout",
          "output_type": "stream",
          "text": [
            "tensor(0.1626, device='cuda:0')\n",
            "epoch 0 loss: 0.32745712995529175 validation: 0.1625814288854599\n"
          ]
        },
        {
          "name": "stderr",
          "output_type": "stream",
          "text": [
            "100%|██████████| 4855/4855 [01:06<00:00, 73.41it/s]\n"
          ]
        },
        {
          "name": "stdout",
          "output_type": "stream",
          "text": [
            "tensor(0.1590, device='cuda:0')\n",
            "epoch 1 loss: 0.26897430419921875 validation: 0.1590164452791214\n"
          ]
        },
        {
          "name": "stderr",
          "output_type": "stream",
          "text": [
            "100%|██████████| 4855/4855 [00:58<00:00, 83.60it/s]\n"
          ]
        },
        {
          "name": "stdout",
          "output_type": "stream",
          "text": [
            "tensor(0.1468, device='cuda:0')\n",
            "epoch 2 loss: 0.24769358336925507 validation: 0.14683657884597778\n"
          ]
        },
        {
          "name": "stderr",
          "output_type": "stream",
          "text": [
            " 18%|█▊        | 869/4855 [00:09<00:46, 85.55it/s]"
          ]
        }
      ],
      "source": [
        "hpt_table = []\n",
        "columns = ['lr', 'categorical embedding dim', 'item embedding dim', \n",
        "           'training loss', 'test loss']\n",
        "metrics = ['HR@10', 'MRR@10', 'NDCG@10', 'HR@5', 'MRR@5', 'NDCG@5']\n",
        "columns.extend(metrics)\n",
        "epochs = 10\n",
        "reg = 1e-3\n",
        "for lr in [0.01]:\n",
        "    for cat_embed_dim, item_embed_dim in [[16, 8],[32, 16]]:\n",
        "        model = RankingNetworkWithConv(item_embed_dim, cat_embed_dim, window)\n",
        "        model = model.to(device)\n",
        "        model.train(train, lr, reg, epochs, test_ds)\n",
        "        train_loss = model.loss_history[-1].detach().cpu().item()\n",
        "        test_loss = model.test_loss_history[-1].detach().cpu().item()\n",
        "        evaluation = Evaluation(model, test, complete_test)\n",
        "        evaluation.evaluate_model(top_k = [5, 10])\n",
        "        row = [lr, cat_embed_dim, item_embed_dim, train_loss, test_loss]\n",
        "        row.extend([evaluation.evaluations[metric] for metric in metrics])\n",
        "        hpt_table.append(row)\n",
        "\n",
        "hpt_df = pd.DataFrame(hpt_table, columns = columns)\n",
        "hpt_df"
      ]
    },
    {
      "cell_type": "code",
      "source": [
        "class Dataset(object):\n",
        "    '''\n",
        "    classdocs\n",
        "    '''\n",
        "\n",
        "    def __init__(self, path):\n",
        "        '''\n",
        "        Constructor\n",
        "        '''\n",
        "        # self.trainMatrix = self.load_rating_file_as_matrix(path + \".train.rating\")\n",
        "        self.testRatings = self.load_rating_file_as_list(path + \".test.rating\")\n",
        "        self.testNegatives = self.load_negative_file(path + \".test.negative\")\n",
        "        assert len(self.testRatings) == len(self.testNegatives)\n",
        "        # self.num_users, self.num_items = self.trainMatrix.shape\n",
        "        \n",
        "    def load_rating_file_as_list(self, filename):\n",
        "        ratingList = []\n",
        "        with open(filename, \"r\") as f:\n",
        "            line = f.readline()\n",
        "            while line != None and line != \"\":\n",
        "                arr = line.split(\"\\t\")\n",
        "                user, item = int(arr[0]), int(arr[1])\n",
        "                ratingList.append([user, item])\n",
        "                line = f.readline()\n",
        "        return ratingList\n",
        "    \n",
        "    def load_negative_file(self, filename):\n",
        "        negativeList = []\n",
        "        with open(filename, \"r\") as f:\n",
        "            line = f.readline()\n",
        "            while line != None and line != \"\":\n",
        "                arr = line.split(\"\\t\")\n",
        "                negatives = []\n",
        "                for x in arr[1: ]:\n",
        "                    negatives.append(int(x))\n",
        "                negativeList.append(negatives)\n",
        "                line = f.readline()\n",
        "        return negativeList\n",
        "    \n",
        "\n",
        "class MovieLensTestDataset(Dataset):\n",
        "\n",
        "    def _init_(self,path):\n",
        "        self.users, self.items, self.labels = self.get_dataset(path + \".test.negative\")\n",
        "\n",
        "    def _len_(self):\n",
        "        return len(self.users)\n",
        "  \n",
        "    def get_data(self,idx):\n",
        "        return self.users[idx*100:((idx+1)*100)], self.items[idx*100:((idx+1)*100)], self.labels[idx*100:((idx+1)*100)]\n",
        "\n",
        "    def get_dataset(self, filename):\n",
        "        users, items, labels = [], [], []\n",
        "        with open(filename, \"r\") as f:\n",
        "            line = f.readline()\n",
        "            while line != None and line != \"\":\n",
        "                arr = line.split(\"\\t\")\n",
        "                first_tuple = arr[0][1:-1].split(\",\")\n",
        "                u = int(first_tuple[0])\n",
        "                i = int(first_tuple[1]) \n",
        "                users.append(u)\n",
        "                items.append(i)\n",
        "                labels.append(1)\n",
        "                for negative_item in arr[1: ]:\n",
        "                    users.append(u)\n",
        "                    items.append(int(negative_item))\n",
        "                    labels.append(0)\n",
        "                line = f.readline()\n",
        "        return np.array(users), np.array(items), np.array(labels)\n",
        "\n",
        "dataset_test = MovieLensTestDataset(r'/content/neural_collaborative_filtering/Data/ml-1m')\n",
        "dataset_test._init_(r'/content/neural_collaborative_filtering/Data/ml-1m')"
      ],
      "metadata": {
        "id": "7lH-ALOUyqyK"
      },
      "execution_count": null,
      "outputs": []
    },
    {
      "cell_type": "code",
      "source": [
        "user_input = train.df['user'].values.tolist()\n",
        "item_input = train.df['item'].values.tolist()\n",
        "labels = train.df['label'].values.tolist()\n",
        "\n",
        "num_users = len(set(user_input))\n",
        "num_items = len(set(item_input))\n",
        "num_factors = 8\n",
        "learning_rate = 0.03\n",
        "\n",
        "def get_MF_model(num_users, num_items, latent_dim):\n",
        "    '''Vanilla Matrix Factorization'''\n",
        "    \n",
        "    # Input variables\n",
        "    user_input = Input(shape=(1,), dtype='int32', name = 'user_input')\n",
        "    item_input = Input(shape=(1,), dtype='int32', name = 'item_input')\n",
        "\n",
        "    MF_Embedding_User = Embedding(input_dim = num_users, output_dim = latent_dim, name = 'user_embedding', input_length=1)\n",
        "    MF_Embedding_Item = Embedding(input_dim = num_items, output_dim = latent_dim, name = 'item_embedding', input_length=1)   \n",
        "    \n",
        "    # Crucial to flatten an embedding vector!\n",
        "    user_latent = Flatten()(MF_Embedding_User(user_input))\n",
        "    item_latent = Flatten()(MF_Embedding_Item(item_input))\n",
        "    \n",
        "    # Element-wise product of user and item embeddings\n",
        "    #prediction = merge([user_latent, item_latent], mode = 'dot')\n",
        "    prediction = keras.layers.dot([user_latent,item_latent], axes=1,normalize=False)\n",
        "    model = Model(inputs=[user_input, item_input], outputs=prediction)\n",
        "\n",
        "    return model\n",
        "\n",
        "mf_model = get_MF_model(num_users, num_items, num_factors)\n",
        "mf_model.compile(optimizer=Adam(learning_rate=learning_rate), loss='binary_crossentropy')"
      ],
      "metadata": {
        "id": "uoLF5Hcyekcs"
      },
      "execution_count": null,
      "outputs": []
    },
    {
      "cell_type": "code",
      "source": [
        "import math\n",
        "import heapq # for retrieval topK\n",
        "import multiprocessing\n",
        "from time import time\n",
        "from tensorflow.keras.losses import BinaryCrossentropy\n",
        "\n",
        "def evaluate_model(model, loss_func):\n",
        "    mrr_5 = []\n",
        "    ndcg_5 = []\n",
        "    hr_5 = []\n",
        "    mrr_10 = []\n",
        "    ndcg_10 = []\n",
        "    hr_10 = []\n",
        "    # loss = []\n",
        "\n",
        "    # users = test.df['user'].values.tolist()\n",
        "    # items = test.df['item'].values.tolist()\n",
        "    # test_labels = test.df['label'].values.tolist()\n",
        "    \n",
        "    users, items, test_labels = dataset_test.users,dataset_test.items,dataset_test.labels\n",
        "\n",
        "    predictions = model.predict([np.array(users), np.array(items)], batch_size=100, verbose=0)\n",
        "    # bce = BinaryCrossentropy()\n",
        "    loss = 0\n",
        "    if loss_func == 'bce':\n",
        "      bce = tensorflow.keras.losses.BinaryCrossentropy(from_logits=True)\n",
        "      loss = bce(np.float32(test_labels), predictions.squeeze()).numpy()\n",
        "    if loss_func == 'mse':\n",
        "      loss = tensorflow.keras.losses.mean_squared_error(np.float32(test_labels), predictions.squeeze()).numpy()\n",
        "\n",
        "    for idx in range(num_users):\n",
        "      map_item_score = {}\n",
        "      user_prediction = predictions[(idx*100):((idx+1)*100)]\n",
        "      user_items = items[(idx*100):((idx+1)*100)]\n",
        "      # user_labels = labels[(idx*100):((idx+1)*100)]\n",
        "      # loss.append(bce(user_labels, user_prediction).numpy())\n",
        "      # loss.append(getBCE(user_labels, user_prediction))\n",
        "\n",
        "\n",
        "      positive_item = user_items[0]\n",
        "      for i in range(len(user_items)):\n",
        "           item = user_items[i]\n",
        "           map_item_score[item] = user_prediction[i] \n",
        "\n",
        "      # Evaluate top rank list\n",
        "      ranklist_5 = heapq.nlargest(5, map_item_score, key=map_item_score.get)\n",
        "      mrr_5.append(getMRR(ranklist_5, positive_item))\n",
        "      ndcg_5.append(getNDCG(ranklist_5, positive_item))\n",
        "      hr_5.append(getHitRatio(ranklist_5, positive_item))\n",
        "      \n",
        "      ranklist_10 = heapq.nlargest(10, map_item_score, key=map_item_score.get)\n",
        "      mrr_10.append(getMRR(ranklist_10, positive_item))\n",
        "      ndcg_10.append(getNDCG(ranklist_10, positive_item))\n",
        "      hr_10.append(getHitRatio(ranklist_10, positive_item))\n",
        "\n",
        "    return np.array(mrr_5).mean(),np.array(ndcg_5).mean(),np.array(hr_5).mean(), np.array(mrr_10).mean(), np.array(ndcg_10).mean(), np.array(hr_10).mean(),  loss\n",
        "\n",
        "def getMRR(ranklist, gtItem):\n",
        "    for i in range(len(ranklist)):\n",
        "        item = ranklist[i]\n",
        "        \n",
        "        if item == gtItem:\n",
        "            return 1/(i+1)\n",
        "    return 0\n",
        "\n",
        "def getHitRatio(ranklist, gtItem):\n",
        "    for item in ranklist:\n",
        "        if item == gtItem:\n",
        "            return 1\n",
        "    return 0\n",
        "\n",
        "def getNDCG(ranklist, gtItem):\n",
        "    for i in range(len(ranklist)):\n",
        "        item = ranklist[i]\n",
        "        \n",
        "        if item == gtItem:\n",
        "            return math.log(2) / math.log(i+2)\n",
        "    return 0"
      ],
      "metadata": {
        "id": "12CA5K-0ekiY"
      },
      "execution_count": null,
      "outputs": []
    },
    {
      "cell_type": "code",
      "source": [
        "def model_train(model_tup, loss_func, top_k = 10):\n",
        "    model_name, model = model_tup\n",
        "    mrr_5_list = []\n",
        "    ndcg_5_list = []\n",
        "    hr_5_list = []\n",
        "    mrr_10_list = []\n",
        "    ndcg_10_list = []\n",
        "    hr_10_list = []\n",
        "    loss_hist = []\n",
        "    val_loss_hist = []\n",
        "    best_mrr_10, best_ndcg_10, best_hr_10, best_iter = 0, 0, 0, 0\n",
        "\n",
        "    epochs = 10\n",
        "    t0 = time()\n",
        "    print(f\"Training {model_name} model\")  \n",
        "    for epoch in range(1,epochs+1):\n",
        "        t1 = time()            \n",
        "        hist = model.fit([np.array(user_input), np.array(item_input)], #input\n",
        "                             np.array(labels), # labels \n",
        "                             batch_size=128, epochs=1, verbose=0, shuffle=True)\n",
        "        t2 = time()\n",
        "        print(f\"Finished training epoch {epoch} in {t2-t1:.2f} seconds\")            \n",
        "            \n",
        "        mrr_5, ndcg_5, hr_5, mrr_10, ndcg_10, hr_10, val_loss = evaluate_model(model, loss_func)\n",
        "        loss = hist.history['loss'][0]\n",
        "\n",
        "        mrr_5_list.append(mrr_5)\n",
        "        ndcg_5_list.append(ndcg_5)\n",
        "        hr_5_list.append(hr_5)\n",
        "        mrr_10_list.append(mrr_10)\n",
        "        ndcg_10_list.append(ndcg_10)\n",
        "        hr_10_list.append(hr_10)\n",
        "        loss_hist.append(loss)\n",
        "        val_loss_hist.append(val_loss)\n",
        "\n",
        "        print(f'Finished evaluating epoch {epoch} in {time()-t2:.1f} seconds\\nMRR_10 = {mrr_10:.4f}, NDCG_10 = {ndcg_10:.4f}, HR_10 = {hr_10:.4f}, training loss = {loss:.4f}, test loss = {val_loss:.4f}')\n",
        "        print(f'Finished evaluating epoch {epoch} in {time()-t2:.1f} seconds\\nMRR_5 = {mrr_5:.4f}, NDCG_5 = {ndcg_5:.4f}, HR_5 = {hr_5:.4f}, training loss = {loss:.4f}, test loss = {val_loss:.4f}')\n",
        "\n",
        "\n",
        "        if hr_10 > best_hr_10:\n",
        "           best_mrr_10, best_ndcg_10, best_hr_10, best_iter = mrr_10, ndcg_10, hr_10, epoch\n",
        "        elif epoch > 5 and hr_10 <= hr_10_list[-2]:\n",
        "           print(f'Early stopping')\n",
        "           break\n",
        "            \n",
        "    print(f\"Best epoch was {best_iter}:  MRR_10 = {best_mrr_10:.4f}, NDCG_10 = {best_ndcg_10:.4f}, HR_10 = {best_hr_10:.4f}. \")\n",
        "\n",
        "    return mrr_5_list, ndcg_5_list, hr_5_list, mrr_10_list, ndcg_10_list, hr_10_list, loss_hist, val_loss_hist, (time() - t0)"
      ],
      "metadata": {
        "id": "au9dFGXnekrX"
      },
      "execution_count": null,
      "outputs": []
    },
    {
      "cell_type": "code",
      "source": [
        "def MF_hp_tune(lr_list, factor_list):\n",
        "    best_HR_10 = 0\n",
        "    for learning_rate in lr_list:\n",
        "      for num_factors in factor_list:\n",
        "        print(f'Training with parameters lr = {learning_rate}, num_factors = {num_factors}')\n",
        "        model = get_MF_model(num_users, num_items, num_factors)\n",
        "        model.compile(optimizer=Adam(learning_rate=learning_rate), loss='binary_crossentropy')\n",
        "        MF_mrr_5_list, MF_ndcg_5_list, MF_hr_5_list, MF_mrr_10_list, MF_ndcg_10_list, MF_hr_10_list, MF_loss_hist, MF_val_loss_hist, MF_time = model_train(('MF', model), 'bce')\n",
        "        if max(MF_hr_10_list) > best_HR_10:\n",
        "           best_HR_10 = max(MF_hr_10_list)\n",
        "           print(f'Current best model parameters are lr = {learning_rate}, num_factors = {num_factors} with HR = {best_HR_10}')\n",
        "\n",
        "MF_hp_tune([0.01, 0.001], [4, 8, 16])"
      ],
      "metadata": {
        "colab": {
          "base_uri": "https://localhost:8080/"
        },
        "id": "eshTRA8xyM9s",
        "outputId": "44484318-10ab-4c39-d791-db4dce725a4c"
      },
      "execution_count": null,
      "outputs": [
        {
          "output_type": "stream",
          "name": "stdout",
          "text": [
            "Training with parameters lr = 0.001, num_factors = 4\n",
            "Training MF model\n",
            "Finished training epoch 1 in 81.79 seconds\n",
            "Finished evaluating epoch 1 in 23.3 seconds\n",
            "MRR_10 = 0.1382, NDCG_10 = 0.1984, HR_10 = 0.3995, training loss = 1.2357, test loss = 0.5355\n",
            "Finished evaluating epoch 1 in 23.3 seconds\n",
            "MRR_5 = 0.1162, NDCG_5 = 0.1444, HR_5 = 0.2311, training loss = 1.2357, test loss = 0.5355\n",
            "Finished training epoch 2 in 80.27 seconds\n",
            "Finished evaluating epoch 2 in 23.1 seconds\n",
            "MRR_10 = 0.1451, NDCG_10 = 0.2055, HR_10 = 0.4058, training loss = 1.0689, test loss = 0.4136\n",
            "Finished evaluating epoch 2 in 23.1 seconds\n",
            "MRR_5 = 0.1237, NDCG_5 = 0.1536, HR_5 = 0.2454, training loss = 1.0689, test loss = 0.4136\n",
            "Finished training epoch 3 in 143.20 seconds\n",
            "Finished evaluating epoch 3 in 23.2 seconds\n",
            "MRR_10 = 0.1481, NDCG_10 = 0.2119, HR_10 = 0.4232, training loss = 1.1473, test loss = 0.3566\n",
            "Finished evaluating epoch 3 in 23.2 seconds\n",
            "MRR_5 = 0.1265, NDCG_5 = 0.1591, HR_5 = 0.2588, training loss = 1.1473, test loss = 0.3566\n",
            "Finished training epoch 4 in 80.99 seconds\n",
            "Finished evaluating epoch 4 in 23.1 seconds\n",
            "MRR_10 = 0.1411, NDCG_10 = 0.2046, HR_10 = 0.4159, training loss = 1.2256, test loss = 0.3201\n",
            "Finished evaluating epoch 4 in 23.1 seconds\n",
            "MRR_5 = 0.1190, NDCG_5 = 0.1506, HR_5 = 0.2477, training loss = 1.2256, test loss = 0.3201\n",
            "Finished training epoch 5 in 84.03 seconds\n",
            "Finished evaluating epoch 5 in 23.1 seconds\n",
            "MRR_10 = 0.1393, NDCG_10 = 0.2024, HR_10 = 0.4126, training loss = 1.2744, test loss = 0.2957\n",
            "Finished evaluating epoch 5 in 23.1 seconds\n",
            "MRR_5 = 0.1171, NDCG_5 = 0.1477, HR_5 = 0.2417, training loss = 1.2744, test loss = 0.2957\n",
            "Finished training epoch 6 in 83.31 seconds\n",
            "Finished evaluating epoch 6 in 24.6 seconds\n",
            "MRR_10 = 0.1479, NDCG_10 = 0.2099, HR_10 = 0.4162, training loss = 1.3153, test loss = 0.2812\n",
            "Finished evaluating epoch 6 in 24.6 seconds\n",
            "MRR_5 = 0.1259, NDCG_5 = 0.1560, HR_5 = 0.2485, training loss = 1.3153, test loss = 0.2812\n",
            "Finished training epoch 7 in 83.25 seconds\n",
            "Finished evaluating epoch 7 in 23.2 seconds\n",
            "MRR_10 = 0.1549, NDCG_10 = 0.2188, HR_10 = 0.4291, training loss = 1.3518, test loss = 0.2737\n",
            "Finished evaluating epoch 7 in 23.2 seconds\n",
            "MRR_5 = 0.1344, NDCG_5 = 0.1689, HR_5 = 0.2747, training loss = 1.3518, test loss = 0.2737\n",
            "Finished training epoch 8 in 84.95 seconds\n",
            "Finished evaluating epoch 8 in 23.2 seconds\n",
            "MRR_10 = 0.1508, NDCG_10 = 0.2147, HR_10 = 0.4265, training loss = 1.3848, test loss = 0.2675\n",
            "Finished evaluating epoch 8 in 23.2 seconds\n",
            "MRR_5 = 0.1290, NDCG_5 = 0.1616, HR_5 = 0.2618, training loss = 1.3848, test loss = 0.2675\n",
            "Early stopping\n",
            "Best epoch was 7:  MRR_10 = 0.1549, NDCG_10 = 0.2188, HR_10 = 0.4291. \n",
            "Current best model parameters are lr = 0.001, num_factors = 4 with HR = 0.4291390728476821\n",
            "Training with parameters lr = 0.001, num_factors = 8\n",
            "Training MF model\n",
            "Finished training epoch 1 in 90.65 seconds\n",
            "Finished evaluating epoch 1 in 23.3 seconds\n",
            "MRR_10 = 0.1274, NDCG_10 = 0.1819, HR_10 = 0.3632, training loss = 1.7274, test loss = 0.3522\n",
            "Finished evaluating epoch 1 in 23.3 seconds\n",
            "MRR_5 = 0.1079, NDCG_5 = 0.1341, HR_5 = 0.2146, training loss = 1.7274, test loss = 0.3522\n",
            "Finished training epoch 2 in 88.91 seconds\n",
            "Finished evaluating epoch 2 in 14.1 seconds\n",
            "MRR_10 = 0.1487, NDCG_10 = 0.2098, HR_10 = 0.4124, training loss = 1.9369, test loss = 0.2546\n",
            "Finished evaluating epoch 2 in 14.1 seconds\n",
            "MRR_5 = 0.1280, NDCG_5 = 0.1592, HR_5 = 0.2551, training loss = 1.9369, test loss = 0.2546\n",
            "Finished training epoch 3 in 143.28 seconds\n",
            "Finished evaluating epoch 3 in 23.2 seconds\n",
            "MRR_10 = 0.1690, NDCG_10 = 0.2327, HR_10 = 0.4427, training loss = 2.3729, test loss = 0.2569\n",
            "Finished evaluating epoch 3 in 23.2 seconds\n",
            "MRR_5 = 0.1491, NDCG_5 = 0.1840, HR_5 = 0.2911, training loss = 2.3729, test loss = 0.2569\n",
            "Finished training epoch 4 in 143.30 seconds\n",
            "Finished evaluating epoch 4 in 15.0 seconds\n",
            "MRR_10 = 0.1754, NDCG_10 = 0.2372, HR_10 = 0.4404, training loss = 2.6238, test loss = 0.3502\n",
            "Finished evaluating epoch 4 in 15.0 seconds\n",
            "MRR_5 = 0.1560, NDCG_5 = 0.1900, HR_5 = 0.2944, training loss = 2.6238, test loss = 0.3502\n",
            "Finished training epoch 5 in 143.22 seconds\n",
            "Finished evaluating epoch 5 in 24.7 seconds\n",
            "MRR_10 = 0.1847, NDCG_10 = 0.2478, HR_10 = 0.4535, training loss = 2.6646, test loss = 0.4565\n",
            "Finished evaluating epoch 5 in 24.7 seconds\n",
            "MRR_5 = 0.1664, NDCG_5 = 0.2033, HR_5 = 0.3161, training loss = 2.6646, test loss = 0.4565\n",
            "Finished training epoch 6 in 94.38 seconds\n",
            "Finished evaluating epoch 6 in 23.2 seconds\n",
            "MRR_10 = 0.1809, NDCG_10 = 0.2431, HR_10 = 0.4457, training loss = 2.6600, test loss = 0.5444\n",
            "Finished evaluating epoch 6 in 23.2 seconds\n",
            "MRR_5 = 0.1633, NDCG_5 = 0.2010, HR_5 = 0.3162, training loss = 2.6600, test loss = 0.5444\n",
            "Early stopping\n",
            "Best epoch was 5:  MRR_10 = 0.1847, NDCG_10 = 0.2478, HR_10 = 0.4535. \n",
            "Current best model parameters are lr = 0.001, num_factors = 8 with HR = 0.45347682119205296\n",
            "Training with parameters lr = 0.001, num_factors = 16\n",
            "Training MF model\n",
            "Finished training epoch 1 in 144.25 seconds\n",
            "Finished evaluating epoch 1 in 23.8 seconds\n",
            "MRR_10 = 0.1496, NDCG_10 = 0.2054, HR_10 = 0.3876, training loss = 2.5552, test loss = 0.3348\n",
            "Finished evaluating epoch 1 in 23.8 seconds\n",
            "MRR_5 = 0.1330, NDCG_5 = 0.1656, HR_5 = 0.2651, training loss = 2.5552, test loss = 0.3348\n",
            "Finished training epoch 2 in 144.31 seconds\n",
            "Finished evaluating epoch 2 in 23.2 seconds\n",
            "MRR_10 = 0.1602, NDCG_10 = 0.2128, HR_10 = 0.3828, training loss = 2.7880, test loss = 0.4805\n",
            "Finished evaluating epoch 2 in 23.2 seconds\n",
            "MRR_5 = 0.1467, NDCG_5 = 0.1804, HR_5 = 0.2833, training loss = 2.7880, test loss = 0.4805\n",
            "Finished training epoch 3 in 203.36 seconds\n",
            "Finished evaluating epoch 3 in 15.9 seconds\n",
            "MRR_10 = 0.1545, NDCG_10 = 0.2040, HR_10 = 0.3631, training loss = 2.7725, test loss = 0.5934\n",
            "Finished evaluating epoch 3 in 15.9 seconds\n",
            "MRR_5 = 0.1420, NDCG_5 = 0.1745, HR_5 = 0.2735, training loss = 2.7725, test loss = 0.5934\n",
            "Finished training epoch 4 in 140.97 seconds\n",
            "Finished evaluating epoch 4 in 23.6 seconds\n",
            "MRR_10 = 0.1535, NDCG_10 = 0.2047, HR_10 = 0.3692, training loss = 2.7596, test loss = 0.6970\n",
            "Finished evaluating epoch 4 in 23.6 seconds\n",
            "MRR_5 = 0.1406, NDCG_5 = 0.1742, HR_5 = 0.2760, training loss = 2.7596, test loss = 0.6970\n",
            "Finished training epoch 5 in 141.23 seconds\n",
            "Finished evaluating epoch 5 in 23.2 seconds\n",
            "MRR_10 = 0.1525, NDCG_10 = 0.2038, HR_10 = 0.3687, training loss = 2.7497, test loss = 0.7821\n",
            "Finished evaluating epoch 5 in 23.2 seconds\n",
            "MRR_5 = 0.1406, NDCG_5 = 0.1752, HR_5 = 0.2810, training loss = 2.7497, test loss = 0.7821\n",
            "Finished training epoch 6 in 143.31 seconds\n",
            "Finished evaluating epoch 6 in 17.8 seconds\n",
            "MRR_10 = 0.1550, NDCG_10 = 0.2055, HR_10 = 0.3672, training loss = 2.7407, test loss = 0.8563\n",
            "Finished evaluating epoch 6 in 17.8 seconds\n",
            "MRR_5 = 0.1434, NDCG_5 = 0.1781, HR_5 = 0.2836, training loss = 2.7407, test loss = 0.8563\n",
            "Early stopping\n",
            "Best epoch was 1:  MRR_10 = 0.1496, NDCG_10 = 0.2054, HR_10 = 0.3876. \n",
            "Training with parameters lr = 0.001, num_factors = 4\n",
            "Training MF model\n",
            "Finished training epoch 1 in 144.52 seconds\n",
            "Finished evaluating epoch 1 in 14.3 seconds\n",
            "MRR_10 = 0.1786, NDCG_10 = 0.2380, HR_10 = 0.4334, training loss = 1.2247, test loss = 0.7378\n",
            "Finished evaluating epoch 1 in 14.3 seconds\n",
            "MRR_5 = 0.1593, NDCG_5 = 0.1907, HR_5 = 0.2866, training loss = 1.2247, test loss = 0.7378\n",
            "Finished training epoch 2 in 90.65 seconds\n",
            "Finished evaluating epoch 2 in 14.3 seconds\n",
            "MRR_10 = 0.2157, NDCG_10 = 0.2864, HR_10 = 0.5187, training loss = 0.5659, test loss = 0.7274\n",
            "Finished evaluating epoch 2 in 14.3 seconds\n",
            "MRR_5 = 0.1936, NDCG_5 = 0.2325, HR_5 = 0.3510, training loss = 0.5659, test loss = 0.7274\n",
            "Finished training epoch 3 in 143.27 seconds\n",
            "Finished evaluating epoch 3 in 14.4 seconds\n",
            "MRR_10 = 0.2214, NDCG_10 = 0.2942, HR_10 = 0.5341, training loss = 0.5093, test loss = 0.7080\n",
            "Finished evaluating epoch 3 in 14.4 seconds\n",
            "MRR_5 = 0.1983, NDCG_5 = 0.2377, HR_5 = 0.3581, training loss = 0.5093, test loss = 0.7080\n",
            "Finished training epoch 4 in 87.46 seconds\n",
            "Finished evaluating epoch 4 in 23.1 seconds\n",
            "MRR_10 = 0.2251, NDCG_10 = 0.2997, HR_10 = 0.5449, training loss = 0.5042, test loss = 0.6897\n",
            "Finished evaluating epoch 4 in 23.1 seconds\n",
            "MRR_5 = 0.2017, NDCG_5 = 0.2427, HR_5 = 0.3675, training loss = 0.5042, test loss = 0.6897\n",
            "Finished training epoch 5 in 86.95 seconds\n",
            "Finished evaluating epoch 5 in 16.9 seconds\n",
            "MRR_10 = 0.2245, NDCG_10 = 0.2985, HR_10 = 0.5422, training loss = 0.5107, test loss = 0.6725\n",
            "Finished evaluating epoch 5 in 16.9 seconds\n",
            "MRR_5 = 0.2012, NDCG_5 = 0.2417, HR_5 = 0.3657, training loss = 0.5107, test loss = 0.6725\n",
            "Finished training epoch 6 in 88.51 seconds\n",
            "Finished evaluating epoch 6 in 23.2 seconds\n",
            "MRR_10 = 0.2253, NDCG_10 = 0.2988, HR_10 = 0.5404, training loss = 0.5140, test loss = 0.6610\n",
            "Finished evaluating epoch 6 in 23.2 seconds\n",
            "MRR_5 = 0.2026, NDCG_5 = 0.2436, HR_5 = 0.3690, training loss = 0.5140, test loss = 0.6610\n",
            "Early stopping\n",
            "Best epoch was 4:  MRR_10 = 0.2251, NDCG_10 = 0.2997, HR_10 = 0.5449. \n",
            "Current best model parameters are lr = 0.001, num_factors = 4 with HR = 0.5448675496688742\n",
            "Training with parameters lr = 0.001, num_factors = 8\n",
            "Training MF model\n",
            "Finished training epoch 1 in 144.34 seconds\n",
            "Finished evaluating epoch 1 in 14.4 seconds\n",
            "MRR_10 = 0.2012, NDCG_10 = 0.2684, HR_10 = 0.4889, training loss = 0.9520, test loss = 0.7334\n",
            "Finished evaluating epoch 1 in 14.4 seconds\n",
            "MRR_5 = 0.1810, NDCG_5 = 0.2190, HR_5 = 0.3353, training loss = 0.9520, test loss = 0.7334\n",
            "Finished training epoch 2 in 97.40 seconds\n",
            "Finished evaluating epoch 2 in 24.6 seconds\n",
            "MRR_10 = 0.2394, NDCG_10 = 0.3178, HR_10 = 0.5745, training loss = 0.4829, test loss = 0.6985\n",
            "Finished evaluating epoch 2 in 24.6 seconds\n",
            "MRR_5 = 0.2156, NDCG_5 = 0.2597, HR_5 = 0.3942, training loss = 0.4829, test loss = 0.6985\n",
            "Finished training epoch 3 in 143.27 seconds\n",
            "Finished evaluating epoch 3 in 23.2 seconds\n",
            "MRR_10 = 0.2498, NDCG_10 = 0.3296, HR_10 = 0.5906, training loss = 0.4874, test loss = 0.6687\n",
            "Finished evaluating epoch 3 in 23.2 seconds\n",
            "MRR_5 = 0.2254, NDCG_5 = 0.2706, HR_5 = 0.4084, training loss = 0.4874, test loss = 0.6687\n",
            "Finished training epoch 4 in 94.36 seconds\n",
            "Finished evaluating epoch 4 in 16.9 seconds\n",
            "MRR_10 = 0.2547, NDCG_10 = 0.3364, HR_10 = 0.6040, training loss = 0.4957, test loss = 0.6436\n",
            "Finished evaluating epoch 4 in 16.9 seconds\n",
            "MRR_5 = 0.2298, NDCG_5 = 0.2761, HR_5 = 0.4172, training loss = 0.4957, test loss = 0.6436\n",
            "Finished training epoch 5 in 143.49 seconds\n",
            "Finished evaluating epoch 5 in 24.6 seconds\n",
            "MRR_10 = 0.2554, NDCG_10 = 0.3371, HR_10 = 0.6035, training loss = 0.5076, test loss = 0.6224\n",
            "Finished evaluating epoch 5 in 24.6 seconds\n",
            "MRR_5 = 0.2314, NDCG_5 = 0.2789, HR_5 = 0.4235, training loss = 0.5076, test loss = 0.6224\n",
            "Finished training epoch 6 in 143.34 seconds\n",
            "Finished evaluating epoch 6 in 23.7 seconds\n",
            "MRR_10 = 0.2552, NDCG_10 = 0.3367, HR_10 = 0.6040, training loss = 0.5159, test loss = 0.6058\n",
            "Finished evaluating epoch 6 in 23.7 seconds\n",
            "MRR_5 = 0.2305, NDCG_5 = 0.2768, HR_5 = 0.4180, training loss = 0.5159, test loss = 0.6058\n",
            "Finished training epoch 7 in 94.65 seconds\n",
            "Finished evaluating epoch 7 in 24.6 seconds\n",
            "MRR_10 = 0.2531, NDCG_10 = 0.3340, HR_10 = 0.5987, training loss = 0.5234, test loss = 0.5893\n",
            "Finished evaluating epoch 7 in 24.6 seconds\n",
            "MRR_5 = 0.2290, NDCG_5 = 0.2754, HR_5 = 0.4171, training loss = 0.5234, test loss = 0.5893\n",
            "Early stopping\n",
            "Best epoch was 4:  MRR_10 = 0.2547, NDCG_10 = 0.3364, HR_10 = 0.6040. \n",
            "Current best model parameters are lr = 0.001, num_factors = 8 with HR = 0.6039735099337749\n",
            "Training with parameters lr = 0.001, num_factors = 16\n",
            "Training MF model\n",
            "Finished training epoch 1 in 144.33 seconds\n",
            "Finished evaluating epoch 1 in 23.2 seconds\n",
            "MRR_10 = 0.2265, NDCG_10 = 0.2994, HR_10 = 0.5379, training loss = 0.8147, test loss = 0.7138\n",
            "Finished evaluating epoch 1 in 23.2 seconds\n",
            "MRR_5 = 0.2045, NDCG_5 = 0.2458, HR_5 = 0.3717, training loss = 0.8147, test loss = 0.7138\n",
            "Finished training epoch 2 in 143.46 seconds\n",
            "Finished evaluating epoch 2 in 24.2 seconds\n",
            "MRR_10 = 0.2611, NDCG_10 = 0.3409, HR_10 = 0.6010, training loss = 0.4839, test loss = 0.6645\n",
            "Finished evaluating epoch 2 in 24.2 seconds\n",
            "MRR_5 = 0.2377, NDCG_5 = 0.2843, HR_5 = 0.4258, training loss = 0.4839, test loss = 0.6645\n",
            "Finished training epoch 3 in 143.69 seconds\n",
            "Finished evaluating epoch 3 in 23.1 seconds\n",
            "MRR_10 = 0.2675, NDCG_10 = 0.3501, HR_10 = 0.6197, training loss = 0.4947, test loss = 0.6280\n",
            "Finished evaluating epoch 3 in 23.1 seconds\n",
            "MRR_5 = 0.2432, NDCG_5 = 0.2910, HR_5 = 0.4368, training loss = 0.4947, test loss = 0.6280\n",
            "Finished training epoch 4 in 143.28 seconds\n",
            "Finished evaluating epoch 4 in 15.4 seconds\n",
            "MRR_10 = 0.2705, NDCG_10 = 0.3536, HR_10 = 0.6247, training loss = 0.5049, test loss = 0.5994\n",
            "Finished evaluating epoch 4 in 15.4 seconds\n",
            "MRR_5 = 0.2459, NDCG_5 = 0.2943, HR_5 = 0.4417, training loss = 0.5049, test loss = 0.5994\n",
            "Finished training epoch 5 in 143.53 seconds\n",
            "Finished evaluating epoch 5 in 23.2 seconds\n",
            "MRR_10 = 0.2713, NDCG_10 = 0.3546, HR_10 = 0.6262, training loss = 0.5138, test loss = 0.5738\n",
            "Finished evaluating epoch 5 in 23.2 seconds\n",
            "MRR_5 = 0.2471, NDCG_5 = 0.2962, HR_5 = 0.4460, training loss = 0.5138, test loss = 0.5738\n",
            "Finished training epoch 6 in 143.28 seconds\n",
            "Finished evaluating epoch 6 in 23.2 seconds\n",
            "MRR_10 = 0.2698, NDCG_10 = 0.3534, HR_10 = 0.6257, training loss = 0.5217, test loss = 0.5520\n",
            "Finished evaluating epoch 6 in 23.2 seconds\n",
            "MRR_5 = 0.2458, NDCG_5 = 0.2953, HR_5 = 0.4465, training loss = 0.5217, test loss = 0.5520\n",
            "Early stopping\n",
            "Best epoch was 5:  MRR_10 = 0.2713, NDCG_10 = 0.3546, HR_10 = 0.6262. \n",
            "Current best model parameters are lr = 0.001, num_factors = 16 with HR = 0.626158940397351\n"
          ]
        }
      ]
    },
    {
      "cell_type": "code",
      "source": [
        "MF_tup = ('MF', MF_mrr_5_list, MF_ndcg_5_list, MF_hr_5_list, MF_mrr_10_list, MF_ndcg_10_list, MF_hr_10_list, MF_loss_hist, MF_val_loss_hist, MF_time)\n",
        "loss_plot = [[MF_tup[0], MF_tup[7], MF_tup[8]]]\n",
        "\n",
        "\n",
        "# plot lines\n",
        "plt.plot(loss_plot[0][1], label = 'Train loss')\n",
        "plt.plot(loss_plot[0][2], label = 'Test loss')\n",
        "plt.title(loss_plot[0][0], fontsize=20)\n",
        "\n",
        "plt.legend(fontsize=14)\n",
        "plt.show()"
      ],
      "metadata": {
        "colab": {
          "base_uri": "https://localhost:8080/",
          "height": 286
        },
        "id": "2oQfu-fxgrWZ",
        "outputId": "b3ca85a0-0dfe-4aee-c410-20af127b4167"
      },
      "execution_count": null,
      "outputs": [
        {
          "output_type": "display_data",
          "data": {
            "text/plain": [
              "<Figure size 432x288 with 1 Axes>"
            ],
            "image/png": "[encoded data removed]"
          },
          "metadata": {
            "needs_background": "light"
          }
        }
      ]
    }
  ],
  "metadata": {
    "colab": {
      "provenance": []
    },
    "kernelspec": {
      "display_name": "Python 3",
      "language": "python",
      "name": "python3"
    },
    "language_info": {
      "codemirror_mode": {
        "name": "ipython",
        "version": 3
      },
      "file_extension": ".py",
      "mimetype": "text/x-python",
      "name": "python",
      "nbconvert_exporter": "python",
      "pygments_lexer": "ipython3",
      "version": "3.10.6"
    },
    "vscode": {
      "interpreter": {
        "hash": "916dbcbb3f70747c44a77c7bcd40155683ae19c65e1c03b4aa3499c5328201f1"
      }
    }
  },
  "nbformat": 4,
  "nbformat_minor": 0
}